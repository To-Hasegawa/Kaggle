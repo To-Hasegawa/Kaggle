{
 "cells": [
  {
   "cell_type": "markdown",
   "metadata": {},
   "source": [
    "This is my first model of this competition.  \n",
    "My first choice is LightGBM.  \n",
    "In this kernel I use other kaggler's features, my own feature engineering is next step.  \n",
    "  \n",
    "Ref:https://www.kaggle.com/mhviraf/a-new-baseline-for-dsb-2019-catboost-model"
   ]
  },
  {
   "cell_type": "markdown",
   "metadata": {},
   "source": [
    "I had posted my very naive baseline at https://www.kaggle.com/mhviraf/a-baseline-for-dsb-2019. In that kernel I only used the mode label for each Assessment and I thought it should be very easy to beat. This kernel shows how you can beat that baseline by actually applying a model. In this kernel via `get_data()` function, I go over each `installation_id` and try to extract some features based on his/her behavior prior to the assessment. I will then train a `Catboost` classifier on it and make predictions on the test set. Note that the features I made in this kernel are so very basic and you can easily add many more to it. Good luck and happy kaggling. Don't forget to upvote if you found it useful ;)"
   ]
  },
  {
   "cell_type": "code",
   "execution_count": 1,
   "metadata": {
    "_cell_guid": "b1076dfc-b9ad-4769-8c92-a6c4dae69d19",
    "_kg_hide-input": true,
    "_kg_hide-output": true,
    "_uuid": "8f2839f25d086af736a60e9eeb907d3b93b6e0e5"
   },
   "outputs": [],
   "source": [
    "import numpy as np\n",
    "import pandas as pd\n",
    "import datetime\n",
    "import matplotlib.pyplot as plt\n",
    "#from catboost import CatBoostClassifier\n",
    "from time import time\n",
    "from tqdm import tqdm_notebook as tqdm"
   ]
  },
  {
   "cell_type": "code",
   "execution_count": 2,
   "metadata": {
    "_kg_hide-input": true
   },
   "outputs": [],
   "source": [
    "from sklearn.metrics import confusion_matrix\n",
    "def qwk(act,pred,n=4,hist_range=(0,3)):\n",
    "    \n",
    "    O = confusion_matrix(act,pred)\n",
    "    O = np.divide(O,np.sum(O))\n",
    "    \n",
    "    W = np.zeros((n,n))\n",
    "    for i in range(n):\n",
    "        for j in range(n):\n",
    "            W[i][j] = ((i-j)**2)/((n-1)**2)\n",
    "            \n",
    "    act_hist = np.histogram(act,bins=n,range=hist_range)[0]\n",
    "    prd_hist = np.histogram(pred,bins=n,range=hist_range)[0]\n",
    "    \n",
    "    E = np.outer(act_hist,prd_hist)\n",
    "    E = np.divide(E,np.sum(E))\n",
    "    \n",
    "    num = np.sum(np.multiply(W,O))\n",
    "    den = np.sum(np.multiply(W,E))\n",
    "        \n",
    "    return 1-np.divide(num,den)\n",
    "    "
   ]
  },
  {
   "cell_type": "code",
   "execution_count": 3,
   "metadata": {
    "_cell_guid": "79c7e3d0-c299-4dcb-8224-4455121ee9b0",
    "_kg_hide-input": true,
    "_kg_hide-output": true,
    "_uuid": "d629ff2d2480ee46fbb7e2d37f6b5fab8052498a"
   },
   "outputs": [],
   "source": [
    "train = pd.read_csv('/kaggle/input/data-science-bowl-2019/train.csv')\n",
    "train_labels = pd.read_csv('/kaggle/input/data-science-bowl-2019/train_labels.csv')\n",
    "specs = pd.read_csv('/kaggle/input/data-science-bowl-2019/specs.csv')\n",
    "test = pd.read_csv('/kaggle/input/data-science-bowl-2019/test.csv')\n",
    "submission = pd.read_csv('/kaggle/input/data-science-bowl-2019/sample_submission.csv')"
   ]
  },
  {
   "cell_type": "code",
   "execution_count": 4,
   "metadata": {},
   "outputs": [],
   "source": [
    "#train_labels.head()"
   ]
  },
  {
   "cell_type": "code",
   "execution_count": 5,
   "metadata": {},
   "outputs": [],
   "source": [
    "#train.shape"
   ]
  },
  {
   "cell_type": "code",
   "execution_count": 6,
   "metadata": {},
   "outputs": [],
   "source": [
    "#test.shape"
   ]
  },
  {
   "cell_type": "markdown",
   "metadata": {},
   "source": [
    "def reduce_mem_usage(df, verbose=True):\n",
    "    numerics = ['int16', 'int32', 'int64', 'float16', 'float32', 'float64']\n",
    "    start_mem = df.memory_usage().sum() / 1024**2\n",
    "    for col in df.columns:\n",
    "        col_type = df[col].dtypes\n",
    "        if col_type in numerics:\n",
    "            c_min = df[col].min()\n",
    "            c_max = df[col].max()\n",
    "            if str(col_type)[:3] == 'int':\n",
    "                if c_min > np.iinfo(np.int8).min and c_max < np.iinfo(np.int8).max:\n",
    "                    df[col] = df[col].astype(np.int8)\n",
    "                elif c_min > np.iinfo(np.int16).min and c_max < np.iinfo(np.int16).max:\n",
    "                    df[col] = df[col].astype(np.int16)\n",
    "                elif c_min > np.iinfo(np.int32).min and c_max < np.iinfo(np.int32).max:\n",
    "                    df[col] = df[col].astype(np.int32)\n",
    "                elif c_min > np.iinfo(np.int64).min and c_max < np.iinfo(np.int64).max:\n",
    "                    df[col] = df[col].astype(np.int64)\n",
    "            else:\n",
    "                if c_min > np.finfo(np.float16).min and c_max < np.finfo(np.float16).max:\n",
    "                    df[col] = df[col].astype(np.float16)\n",
    "                elif c_min > np.finfo(np.float32).min and c_max < np.finfo(np.float32).max:\n",
    "                    df[col] = df[col].astype(np.float32)\n",
    "                else:\n",
    "                    df[col] = df[col].astype(np.float64)\n",
    "\n",
    "    end_mem = df.memory_usage().sum() / 1024**2\n",
    "    if verbose:\n",
    "        print('Mem. usage decreased to {:5.2f} Mb ({:.1f}% reduction)'.format(end_mem, 100 * (start_mem - end_mem) / start_mem))\n",
    "    return df"
   ]
  },
  {
   "cell_type": "code",
   "execution_count": 7,
   "metadata": {},
   "outputs": [],
   "source": [
    "# encode title column\n",
    "list_of_user_activities = list(set(train['title'].value_counts().index).union(set(test['title'].value_counts().index)))\n",
    "activities_map = dict(zip(list_of_user_activities, np.arange(len(list_of_user_activities))))\n",
    "\n",
    "train['title'] = train['title'].map(activities_map)\n",
    "test['title'] = test['title'].map(activities_map)\n",
    "train_labels['title'] = train_labels['title'].map(activities_map)"
   ]
  },
  {
   "cell_type": "code",
   "execution_count": 8,
   "metadata": {},
   "outputs": [
    {
     "data": {
      "text/html": [
       "<div>\n",
       "<style scoped>\n",
       "    .dataframe tbody tr th:only-of-type {\n",
       "        vertical-align: middle;\n",
       "    }\n",
       "\n",
       "    .dataframe tbody tr th {\n",
       "        vertical-align: top;\n",
       "    }\n",
       "\n",
       "    .dataframe thead th {\n",
       "        text-align: right;\n",
       "    }\n",
       "</style>\n",
       "<table border=\"1\" class=\"dataframe\">\n",
       "  <thead>\n",
       "    <tr style=\"text-align: right;\">\n",
       "      <th></th>\n",
       "      <th>event_id</th>\n",
       "      <th>game_session</th>\n",
       "      <th>timestamp</th>\n",
       "      <th>event_data</th>\n",
       "      <th>installation_id</th>\n",
       "      <th>event_count</th>\n",
       "      <th>event_code</th>\n",
       "      <th>game_time</th>\n",
       "      <th>title</th>\n",
       "      <th>type</th>\n",
       "      <th>world</th>\n",
       "    </tr>\n",
       "  </thead>\n",
       "  <tbody>\n",
       "    <tr>\n",
       "      <th>0</th>\n",
       "      <td>27253bdc</td>\n",
       "      <td>45bb1e1b6b50c07b</td>\n",
       "      <td>2019-09-06T17:53:46.937Z</td>\n",
       "      <td>{\"event_code\": 2000, \"event_count\": 1}</td>\n",
       "      <td>0001e90f</td>\n",
       "      <td>1</td>\n",
       "      <td>2000</td>\n",
       "      <td>0</td>\n",
       "      <td>25</td>\n",
       "      <td>Clip</td>\n",
       "      <td>NONE</td>\n",
       "    </tr>\n",
       "    <tr>\n",
       "      <th>1</th>\n",
       "      <td>27253bdc</td>\n",
       "      <td>17eeb7f223665f53</td>\n",
       "      <td>2019-09-06T17:54:17.519Z</td>\n",
       "      <td>{\"event_code\": 2000, \"event_count\": 1}</td>\n",
       "      <td>0001e90f</td>\n",
       "      <td>1</td>\n",
       "      <td>2000</td>\n",
       "      <td>0</td>\n",
       "      <td>31</td>\n",
       "      <td>Clip</td>\n",
       "      <td>MAGMAPEAK</td>\n",
       "    </tr>\n",
       "    <tr>\n",
       "      <th>2</th>\n",
       "      <td>77261ab5</td>\n",
       "      <td>0848ef14a8dc6892</td>\n",
       "      <td>2019-09-06T17:54:56.302Z</td>\n",
       "      <td>{\"version\":\"1.0\",\"event_count\":1,\"game_time\":0...</td>\n",
       "      <td>0001e90f</td>\n",
       "      <td>1</td>\n",
       "      <td>2000</td>\n",
       "      <td>0</td>\n",
       "      <td>17</td>\n",
       "      <td>Activity</td>\n",
       "      <td>MAGMAPEAK</td>\n",
       "    </tr>\n",
       "    <tr>\n",
       "      <th>3</th>\n",
       "      <td>b2dba42b</td>\n",
       "      <td>0848ef14a8dc6892</td>\n",
       "      <td>2019-09-06T17:54:56.387Z</td>\n",
       "      <td>{\"description\":\"Let's build a sandcastle! Firs...</td>\n",
       "      <td>0001e90f</td>\n",
       "      <td>2</td>\n",
       "      <td>3010</td>\n",
       "      <td>53</td>\n",
       "      <td>17</td>\n",
       "      <td>Activity</td>\n",
       "      <td>MAGMAPEAK</td>\n",
       "    </tr>\n",
       "    <tr>\n",
       "      <th>4</th>\n",
       "      <td>1bb5fbdb</td>\n",
       "      <td>0848ef14a8dc6892</td>\n",
       "      <td>2019-09-06T17:55:03.253Z</td>\n",
       "      <td>{\"description\":\"Let's build a sandcastle! Firs...</td>\n",
       "      <td>0001e90f</td>\n",
       "      <td>3</td>\n",
       "      <td>3110</td>\n",
       "      <td>6972</td>\n",
       "      <td>17</td>\n",
       "      <td>Activity</td>\n",
       "      <td>MAGMAPEAK</td>\n",
       "    </tr>\n",
       "  </tbody>\n",
       "</table>\n",
       "</div>"
      ],
      "text/plain": [
       "   event_id      game_session                 timestamp  \\\n",
       "0  27253bdc  45bb1e1b6b50c07b  2019-09-06T17:53:46.937Z   \n",
       "1  27253bdc  17eeb7f223665f53  2019-09-06T17:54:17.519Z   \n",
       "2  77261ab5  0848ef14a8dc6892  2019-09-06T17:54:56.302Z   \n",
       "3  b2dba42b  0848ef14a8dc6892  2019-09-06T17:54:56.387Z   \n",
       "4  1bb5fbdb  0848ef14a8dc6892  2019-09-06T17:55:03.253Z   \n",
       "\n",
       "                                          event_data installation_id  \\\n",
       "0             {\"event_code\": 2000, \"event_count\": 1}        0001e90f   \n",
       "1             {\"event_code\": 2000, \"event_count\": 1}        0001e90f   \n",
       "2  {\"version\":\"1.0\",\"event_count\":1,\"game_time\":0...        0001e90f   \n",
       "3  {\"description\":\"Let's build a sandcastle! Firs...        0001e90f   \n",
       "4  {\"description\":\"Let's build a sandcastle! Firs...        0001e90f   \n",
       "\n",
       "   event_count  event_code  game_time  title      type      world  \n",
       "0            1        2000          0     25      Clip       NONE  \n",
       "1            1        2000          0     31      Clip  MAGMAPEAK  \n",
       "2            1        2000          0     17  Activity  MAGMAPEAK  \n",
       "3            2        3010         53     17  Activity  MAGMAPEAK  \n",
       "4            3        3110       6972     17  Activity  MAGMAPEAK  "
      ]
     },
     "execution_count": 8,
     "metadata": {},
     "output_type": "execute_result"
    }
   ],
   "source": [
    "train.head()"
   ]
  },
  {
   "cell_type": "code",
   "execution_count": 9,
   "metadata": {},
   "outputs": [],
   "source": [
    "win_code = dict(zip(activities_map.values(), (4100*np.ones(len(activities_map))).astype('int')))\n",
    "win_code[activities_map['Bird Measurer (Assessment)']] = 4110"
   ]
  },
  {
   "cell_type": "code",
   "execution_count": 10,
   "metadata": {},
   "outputs": [],
   "source": [
    "#print(win_code)"
   ]
  },
  {
   "cell_type": "code",
   "execution_count": 11,
   "metadata": {},
   "outputs": [],
   "source": [
    "train['timestamp'] = pd.to_datetime(train['timestamp'])\n",
    "test['timestamp'] = pd.to_datetime(test['timestamp'])"
   ]
  },
  {
   "cell_type": "code",
   "execution_count": 12,
   "metadata": {},
   "outputs": [
    {
     "data": {
      "text/html": [
       "<div>\n",
       "<style scoped>\n",
       "    .dataframe tbody tr th:only-of-type {\n",
       "        vertical-align: middle;\n",
       "    }\n",
       "\n",
       "    .dataframe tbody tr th {\n",
       "        vertical-align: top;\n",
       "    }\n",
       "\n",
       "    .dataframe thead th {\n",
       "        text-align: right;\n",
       "    }\n",
       "</style>\n",
       "<table border=\"1\" class=\"dataframe\">\n",
       "  <thead>\n",
       "    <tr style=\"text-align: right;\">\n",
       "      <th></th>\n",
       "      <th>event_id</th>\n",
       "      <th>game_session</th>\n",
       "      <th>timestamp</th>\n",
       "      <th>event_data</th>\n",
       "      <th>installation_id</th>\n",
       "      <th>event_count</th>\n",
       "      <th>event_code</th>\n",
       "      <th>game_time</th>\n",
       "      <th>title</th>\n",
       "      <th>type</th>\n",
       "      <th>world</th>\n",
       "    </tr>\n",
       "  </thead>\n",
       "  <tbody>\n",
       "    <tr>\n",
       "      <th>0</th>\n",
       "      <td>27253bdc</td>\n",
       "      <td>45bb1e1b6b50c07b</td>\n",
       "      <td>2019-09-06 17:53:46.937000+00:00</td>\n",
       "      <td>{\"event_code\": 2000, \"event_count\": 1}</td>\n",
       "      <td>0001e90f</td>\n",
       "      <td>1</td>\n",
       "      <td>2000</td>\n",
       "      <td>0</td>\n",
       "      <td>25</td>\n",
       "      <td>Clip</td>\n",
       "      <td>NONE</td>\n",
       "    </tr>\n",
       "    <tr>\n",
       "      <th>1</th>\n",
       "      <td>27253bdc</td>\n",
       "      <td>17eeb7f223665f53</td>\n",
       "      <td>2019-09-06 17:54:17.519000+00:00</td>\n",
       "      <td>{\"event_code\": 2000, \"event_count\": 1}</td>\n",
       "      <td>0001e90f</td>\n",
       "      <td>1</td>\n",
       "      <td>2000</td>\n",
       "      <td>0</td>\n",
       "      <td>31</td>\n",
       "      <td>Clip</td>\n",
       "      <td>MAGMAPEAK</td>\n",
       "    </tr>\n",
       "    <tr>\n",
       "      <th>2</th>\n",
       "      <td>77261ab5</td>\n",
       "      <td>0848ef14a8dc6892</td>\n",
       "      <td>2019-09-06 17:54:56.302000+00:00</td>\n",
       "      <td>{\"version\":\"1.0\",\"event_count\":1,\"game_time\":0...</td>\n",
       "      <td>0001e90f</td>\n",
       "      <td>1</td>\n",
       "      <td>2000</td>\n",
       "      <td>0</td>\n",
       "      <td>17</td>\n",
       "      <td>Activity</td>\n",
       "      <td>MAGMAPEAK</td>\n",
       "    </tr>\n",
       "    <tr>\n",
       "      <th>3</th>\n",
       "      <td>b2dba42b</td>\n",
       "      <td>0848ef14a8dc6892</td>\n",
       "      <td>2019-09-06 17:54:56.387000+00:00</td>\n",
       "      <td>{\"description\":\"Let's build a sandcastle! Firs...</td>\n",
       "      <td>0001e90f</td>\n",
       "      <td>2</td>\n",
       "      <td>3010</td>\n",
       "      <td>53</td>\n",
       "      <td>17</td>\n",
       "      <td>Activity</td>\n",
       "      <td>MAGMAPEAK</td>\n",
       "    </tr>\n",
       "    <tr>\n",
       "      <th>4</th>\n",
       "      <td>1bb5fbdb</td>\n",
       "      <td>0848ef14a8dc6892</td>\n",
       "      <td>2019-09-06 17:55:03.253000+00:00</td>\n",
       "      <td>{\"description\":\"Let's build a sandcastle! Firs...</td>\n",
       "      <td>0001e90f</td>\n",
       "      <td>3</td>\n",
       "      <td>3110</td>\n",
       "      <td>6972</td>\n",
       "      <td>17</td>\n",
       "      <td>Activity</td>\n",
       "      <td>MAGMAPEAK</td>\n",
       "    </tr>\n",
       "  </tbody>\n",
       "</table>\n",
       "</div>"
      ],
      "text/plain": [
       "   event_id      game_session                        timestamp  \\\n",
       "0  27253bdc  45bb1e1b6b50c07b 2019-09-06 17:53:46.937000+00:00   \n",
       "1  27253bdc  17eeb7f223665f53 2019-09-06 17:54:17.519000+00:00   \n",
       "2  77261ab5  0848ef14a8dc6892 2019-09-06 17:54:56.302000+00:00   \n",
       "3  b2dba42b  0848ef14a8dc6892 2019-09-06 17:54:56.387000+00:00   \n",
       "4  1bb5fbdb  0848ef14a8dc6892 2019-09-06 17:55:03.253000+00:00   \n",
       "\n",
       "                                          event_data installation_id  \\\n",
       "0             {\"event_code\": 2000, \"event_count\": 1}        0001e90f   \n",
       "1             {\"event_code\": 2000, \"event_count\": 1}        0001e90f   \n",
       "2  {\"version\":\"1.0\",\"event_count\":1,\"game_time\":0...        0001e90f   \n",
       "3  {\"description\":\"Let's build a sandcastle! Firs...        0001e90f   \n",
       "4  {\"description\":\"Let's build a sandcastle! Firs...        0001e90f   \n",
       "\n",
       "   event_count  event_code  game_time  title      type      world  \n",
       "0            1        2000          0     25      Clip       NONE  \n",
       "1            1        2000          0     31      Clip  MAGMAPEAK  \n",
       "2            1        2000          0     17  Activity  MAGMAPEAK  \n",
       "3            2        3010         53     17  Activity  MAGMAPEAK  \n",
       "4            3        3110       6972     17  Activity  MAGMAPEAK  "
      ]
     },
     "execution_count": 12,
     "metadata": {},
     "output_type": "execute_result"
    }
   ],
   "source": [
    "train.head()"
   ]
  },
  {
   "cell_type": "code",
   "execution_count": 13,
   "metadata": {},
   "outputs": [],
   "source": [
    "def get_data(user_sample, test_set=False):\n",
    "    last_activity = 0\n",
    "    user_activities_count = {'Clip':0, 'Activity': 0, 'Assessment': 0, 'Game':0}\n",
    "    accuracy_groups = {0:0, 1:0, 2:0, 3:0}\n",
    "    all_assessments = []\n",
    "    accumulated_accuracy_group = 0\n",
    "    accumulated_accuracy=0\n",
    "    accumulated_correct_attempts = 0 \n",
    "    accumulated_uncorrect_attempts = 0 \n",
    "    accumulated_actions = 0\n",
    "    counter = 0\n",
    "    durations = []\n",
    "    for i, session in user_sample.groupby('game_session', sort=False):\n",
    "        session_type = session['type'].iloc[0]\n",
    "        session_title = session['title'].iloc[0]\n",
    "        if test_set == True:\n",
    "            second_condition = True\n",
    "        else:\n",
    "            if len(session)>1:\n",
    "                second_condition = True\n",
    "            else:\n",
    "                second_condition= False\n",
    "            \n",
    "        if (session_type == 'Assessment') & (second_condition):\n",
    "            all_attempts = session.query(f'event_code == {win_code[session_title]}')\n",
    "            true_attempts = all_attempts['event_data'].str.contains('true').sum()\n",
    "            false_attempts = all_attempts['event_data'].str.contains('false').sum()\n",
    "            features = user_activities_count.copy()\n",
    "    #         features['installation_id'] = session['installation_id'].iloc[0]\n",
    "#             features['game_session'] = i\n",
    "            features['session_title'] = session['title'].iloc[0] \n",
    "            features['accumulated_correct_attempts'] = accumulated_correct_attempts\n",
    "            features['accumulated_uncorrect_attempts'] = accumulated_uncorrect_attempts\n",
    "            accumulated_correct_attempts += true_attempts \n",
    "            accumulated_uncorrect_attempts += false_attempts\n",
    "            if durations == []:\n",
    "                features['duration_mean'] = 0\n",
    "            else:\n",
    "                features['duration_mean'] = np.mean(durations)\n",
    "            durations.append((session.iloc[-1, 2] - session.iloc[0, 2] ).seconds)\n",
    "            features['accumulated_accuracy'] = accumulated_accuracy/counter if counter > 0 else 0\n",
    "            accuracy = true_attempts/(true_attempts+false_attempts) if (true_attempts+false_attempts) != 0 else 0\n",
    "            accumulated_accuracy += accuracy\n",
    "            if accuracy == 0:\n",
    "                features['accuracy_group'] = 0\n",
    "            elif accuracy == 1:\n",
    "                features['accuracy_group'] = 3\n",
    "            elif accuracy == 0.5:\n",
    "                features['accuracy_group'] = 2\n",
    "            else:\n",
    "                features['accuracy_group'] = 1\n",
    "\n",
    "            features.update(accuracy_groups)\n",
    "            features['accumulated_accuracy_group'] = accumulated_accuracy_group/counter if counter > 0 else 0\n",
    "            features['accumulated_actions'] = accumulated_actions\n",
    "            accumulated_accuracy_group += features['accuracy_group']\n",
    "            accuracy_groups[features['accuracy_group']] += 1\n",
    "            if test_set == True:\n",
    "                all_assessments.append(features)\n",
    "            else:\n",
    "                if true_attempts+false_attempts > 0:\n",
    "                    all_assessments.append(features)\n",
    "                \n",
    "            counter += 1\n",
    "\n",
    "    #         break\n",
    "\n",
    "        accumulated_actions += len(session)\n",
    "        if last_activity != session_type:\n",
    "            user_activities_count[session_type] += 1\n",
    "            last_activitiy = session_type\n",
    "\n",
    "    if test_set:\n",
    "        return all_assessments[-1] \n",
    "    return all_assessments"
   ]
  },
  {
   "cell_type": "code",
   "execution_count": 14,
   "metadata": {},
   "outputs": [
    {
     "data": {
      "application/vnd.jupyter.widget-view+json": {
       "model_id": "8c0b7264366f48be923a3dccf8ca58f1",
       "version_major": 2,
       "version_minor": 0
      },
      "text/plain": [
       "HBox(children=(IntProgress(value=0, max=17000), HTML(value='')))"
      ]
     },
     "metadata": {},
     "output_type": "display_data"
    },
    {
     "name": "stdout",
     "output_type": "stream",
     "text": [
      "\n"
     ]
    }
   ],
   "source": [
    "compiled_data = []\n",
    "for ins_id, user_sample in tqdm(train.groupby('installation_id', sort=False), total=17000):\n",
    "    compiled_data += get_data(user_sample)"
   ]
  },
  {
   "cell_type": "code",
   "execution_count": 15,
   "metadata": {},
   "outputs": [
    {
     "data": {
      "text/plain": [
       "(17690, 16)"
      ]
     },
     "execution_count": 15,
     "metadata": {},
     "output_type": "execute_result"
    }
   ],
   "source": [
    "new_train = pd.DataFrame(compiled_data)\n",
    "del compiled_data\n",
    "new_train.shape"
   ]
  },
  {
   "cell_type": "code",
   "execution_count": 16,
   "metadata": {},
   "outputs": [
    {
     "data": {
      "application/vnd.jupyter.widget-view+json": {
       "model_id": "64e90f073d5145479b98909f306670ed",
       "version_major": 2,
       "version_minor": 0
      },
      "text/plain": [
       "HBox(children=(IntProgress(value=0, max=1000), HTML(value='')))"
      ]
     },
     "metadata": {},
     "output_type": "display_data"
    },
    {
     "name": "stdout",
     "output_type": "stream",
     "text": [
      "\n"
     ]
    }
   ],
   "source": [
    "new_test = []\n",
    "for ins_id, user_sample in tqdm(test.groupby('installation_id', sort=False), total=1000):\n",
    "    a = get_data(user_sample, test_set=True)\n",
    "    new_test.append(a)\n",
    "    \n",
    "new_test = pd.DataFrame(new_test)\n",
    "#del test"
   ]
  },
  {
   "cell_type": "code",
   "execution_count": 17,
   "metadata": {},
   "outputs": [],
   "source": [
    "del train\n",
    "del test"
   ]
  },
  {
   "cell_type": "code",
   "execution_count": 18,
   "metadata": {},
   "outputs": [
    {
     "data": {
      "text/plain": [
       "(17690, 16)"
      ]
     },
     "execution_count": 18,
     "metadata": {},
     "output_type": "execute_result"
    }
   ],
   "source": [
    "new_train.shape"
   ]
  },
  {
   "cell_type": "code",
   "execution_count": 19,
   "metadata": {},
   "outputs": [
    {
     "data": {
      "text/plain": [
       "array([0])"
      ]
     },
     "execution_count": 19,
     "metadata": {},
     "output_type": "execute_result"
    }
   ],
   "source": [
    "new_test[\"accuracy_group\"].unique()"
   ]
  },
  {
   "cell_type": "code",
   "execution_count": 20,
   "metadata": {},
   "outputs": [
    {
     "data": {
      "text/plain": [
       "(1000, 15)"
      ]
     },
     "execution_count": 20,
     "metadata": {},
     "output_type": "execute_result"
    }
   ],
   "source": [
    "new_test = new_test.drop([\"accuracy_group\"], axis=1)\n",
    "new_test.shape"
   ]
  },
  {
   "cell_type": "markdown",
   "metadata": {},
   "source": [
    "Below are the features I have generated. Note that all of them are **prior** to each event. For example, the first row shows **before** this assessment, the player have watched 3 clips, did 3 activities, played 4 games and solved 0 assessments, so on so forth."
   ]
  },
  {
   "cell_type": "markdown",
   "metadata": {},
   "source": [
    "## Model"
   ]
  },
  {
   "cell_type": "code",
   "execution_count": 21,
   "metadata": {},
   "outputs": [],
   "source": [
    "import lightgbm as lgb\n",
    "from sklearn.model_selection import GroupKFold,StratifiedKFold, KFold\n",
    "from sklearn import metrics\n",
    "import time\n",
    "import seaborn as sns\n",
    "from tqdm import tqdm_notebook\n",
    "from sklearn.preprocessing import StandardScaler\n",
    "from sklearn.metrics import mean_absolute_error\n",
    "pd.options.display.precision = 15\n",
    "import gc\n",
    "import warnings\n",
    "warnings.filterwarnings(\"ignore\")"
   ]
  },
  {
   "cell_type": "code",
   "execution_count": 22,
   "metadata": {},
   "outputs": [
    {
     "data": {
      "text/html": [
       "<div>\n",
       "<style scoped>\n",
       "    .dataframe tbody tr th:only-of-type {\n",
       "        vertical-align: middle;\n",
       "    }\n",
       "\n",
       "    .dataframe tbody tr th {\n",
       "        vertical-align: top;\n",
       "    }\n",
       "\n",
       "    .dataframe thead th {\n",
       "        text-align: right;\n",
       "    }\n",
       "</style>\n",
       "<table border=\"1\" class=\"dataframe\">\n",
       "  <thead>\n",
       "    <tr style=\"text-align: right;\">\n",
       "      <th></th>\n",
       "      <th>Clip</th>\n",
       "      <th>Activity</th>\n",
       "      <th>Assessment</th>\n",
       "      <th>Game</th>\n",
       "      <th>session_title</th>\n",
       "      <th>accumulated_correct_attempts</th>\n",
       "      <th>accumulated_uncorrect_attempts</th>\n",
       "      <th>duration_mean</th>\n",
       "      <th>accumulated_accuracy</th>\n",
       "      <th>0</th>\n",
       "      <th>1</th>\n",
       "      <th>2</th>\n",
       "      <th>3</th>\n",
       "      <th>accumulated_accuracy_group</th>\n",
       "      <th>accumulated_actions</th>\n",
       "      <th>type</th>\n",
       "    </tr>\n",
       "  </thead>\n",
       "  <tbody>\n",
       "    <tr>\n",
       "      <th>0</th>\n",
       "      <td>14</td>\n",
       "      <td>7</td>\n",
       "      <td>1</td>\n",
       "      <td>3</td>\n",
       "      <td>35</td>\n",
       "      <td>1</td>\n",
       "      <td>0</td>\n",
       "      <td>30.000000000000000</td>\n",
       "      <td>1.000000000000000</td>\n",
       "      <td>0</td>\n",
       "      <td>0</td>\n",
       "      <td>0</td>\n",
       "      <td>1</td>\n",
       "      <td>3.0</td>\n",
       "      <td>867</td>\n",
       "      <td>1</td>\n",
       "    </tr>\n",
       "    <tr>\n",
       "      <th>1</th>\n",
       "      <td>29</td>\n",
       "      <td>11</td>\n",
       "      <td>5</td>\n",
       "      <td>12</td>\n",
       "      <td>40</td>\n",
       "      <td>4</td>\n",
       "      <td>7</td>\n",
       "      <td>49.600000000000001</td>\n",
       "      <td>0.466666666666667</td>\n",
       "      <td>1</td>\n",
       "      <td>1</td>\n",
       "      <td>2</td>\n",
       "      <td>1</td>\n",
       "      <td>1.6</td>\n",
       "      <td>2718</td>\n",
       "      <td>1</td>\n",
       "    </tr>\n",
       "    <tr>\n",
       "      <th>2</th>\n",
       "      <td>6</td>\n",
       "      <td>2</td>\n",
       "      <td>0</td>\n",
       "      <td>0</td>\n",
       "      <td>29</td>\n",
       "      <td>0</td>\n",
       "      <td>0</td>\n",
       "      <td>0.000000000000000</td>\n",
       "      <td>0.000000000000000</td>\n",
       "      <td>0</td>\n",
       "      <td>0</td>\n",
       "      <td>0</td>\n",
       "      <td>0</td>\n",
       "      <td>0.0</td>\n",
       "      <td>149</td>\n",
       "      <td>1</td>\n",
       "    </tr>\n",
       "    <tr>\n",
       "      <th>3</th>\n",
       "      <td>10</td>\n",
       "      <td>2</td>\n",
       "      <td>0</td>\n",
       "      <td>1</td>\n",
       "      <td>29</td>\n",
       "      <td>0</td>\n",
       "      <td>0</td>\n",
       "      <td>0.000000000000000</td>\n",
       "      <td>0.000000000000000</td>\n",
       "      <td>0</td>\n",
       "      <td>0</td>\n",
       "      <td>0</td>\n",
       "      <td>0</td>\n",
       "      <td>0.0</td>\n",
       "      <td>233</td>\n",
       "      <td>1</td>\n",
       "    </tr>\n",
       "    <tr>\n",
       "      <th>4</th>\n",
       "      <td>17</td>\n",
       "      <td>1</td>\n",
       "      <td>0</td>\n",
       "      <td>6</td>\n",
       "      <td>40</td>\n",
       "      <td>0</td>\n",
       "      <td>0</td>\n",
       "      <td>0.000000000000000</td>\n",
       "      <td>0.000000000000000</td>\n",
       "      <td>0</td>\n",
       "      <td>0</td>\n",
       "      <td>0</td>\n",
       "      <td>0</td>\n",
       "      <td>0.0</td>\n",
       "      <td>951</td>\n",
       "      <td>1</td>\n",
       "    </tr>\n",
       "  </tbody>\n",
       "</table>\n",
       "</div>"
      ],
      "text/plain": [
       "   Clip  Activity  Assessment  Game  session_title  \\\n",
       "0    14         7           1     3             35   \n",
       "1    29        11           5    12             40   \n",
       "2     6         2           0     0             29   \n",
       "3    10         2           0     1             29   \n",
       "4    17         1           0     6             40   \n",
       "\n",
       "   accumulated_correct_attempts  accumulated_uncorrect_attempts  \\\n",
       "0                             1                               0   \n",
       "1                             4                               7   \n",
       "2                             0                               0   \n",
       "3                             0                               0   \n",
       "4                             0                               0   \n",
       "\n",
       "        duration_mean  accumulated_accuracy  0  1  2  3  \\\n",
       "0  30.000000000000000     1.000000000000000  0  0  0  1   \n",
       "1  49.600000000000001     0.466666666666667  1  1  2  1   \n",
       "2   0.000000000000000     0.000000000000000  0  0  0  0   \n",
       "3   0.000000000000000     0.000000000000000  0  0  0  0   \n",
       "4   0.000000000000000     0.000000000000000  0  0  0  0   \n",
       "\n",
       "   accumulated_accuracy_group  accumulated_actions  type  \n",
       "0                         3.0                  867     1  \n",
       "1                         1.6                 2718     1  \n",
       "2                         0.0                  149     1  \n",
       "3                         0.0                  233     1  \n",
       "4                         0.0                  951     1  "
      ]
     },
     "execution_count": 22,
     "metadata": {},
     "output_type": "execute_result"
    }
   ],
   "source": [
    "#add type\n",
    "new_train[\"type\"]=1\n",
    "new_test[\"type\"]=1\n",
    "new_test.head()"
   ]
  },
  {
   "cell_type": "code",
   "execution_count": 23,
   "metadata": {},
   "outputs": [],
   "source": [
    "def train_model_regression(X, X_test, y, params, folds, model_type='lgb', eval_metric='mae', columns=None, plot_feature_importance=False, model=None,\n",
    "                               verbose=10000, early_stopping_rounds=200, n_estimators=50000):\n",
    "    \"\"\"\n",
    "    A function to train a variety of regression models.\n",
    "    Returns dictionary with oof predictions, test predictions, scores and, if necessary, feature importances.\n",
    "    \n",
    "    :params: X - training data, can be pd.DataFrame or np.ndarray (after normalizing)\n",
    "    :params: X_test - test data, can be pd.DataFrame or np.ndarray (after normalizing)\n",
    "    :params: y - target\n",
    "    :params: folds - folds to split data\n",
    "    :params: model_type - type of model to use\n",
    "    :params: eval_metric - metric to use\n",
    "    :params: columns - columns to use. If None - use all columns\n",
    "    :params: plot_feature_importance - whether to plot feature importance of LGB\n",
    "    :params: model - sklearn model, works only for \"sklearn\" model type\n",
    "    \n",
    "    \"\"\"\n",
    "    columns = X.columns if columns is None else columns\n",
    "    X_test = X_test[columns]\n",
    "    \n",
    "    # to set up scoring parameters\n",
    "    metrics_dict = {'mae': {'lgb_metric_name': 'mae',\n",
    "                        'catboost_metric_name': 'MAE',\n",
    "                        'sklearn_scoring_function': metrics.mean_absolute_error},\n",
    "                    'group_mae': {'lgb_metric_name': 'mae',\n",
    "                        'catboost_metric_name': 'MAE',\n",
    "                        'scoring_function': group_mean_log_mae},\n",
    "                    'mse': {'lgb_metric_name': 'mse',\n",
    "                        'catboost_metric_name': 'MSE',\n",
    "                        'sklearn_scoring_function': metrics.mean_squared_error}\n",
    "                    }\n",
    "\n",
    "    \n",
    "    result_dict = {}\n",
    "    \n",
    "    # out-of-fold predictions on train data\n",
    "    oof = np.zeros(len(X))\n",
    "    \n",
    "    # averaged predictions on train data\n",
    "    prediction = np.zeros(len(X_test))\n",
    "    \n",
    "    # list of scores on folds\n",
    "    scores = []\n",
    "    feature_importance = pd.DataFrame()\n",
    "    \n",
    "    # split and train on folds\n",
    "    for fold_n, (train_index, valid_index) in enumerate(folds.split(X)):\n",
    "        print(f'Fold {fold_n + 1} started at {time.ctime()}')\n",
    "        if type(X) == np.ndarray:\n",
    "            X_train, X_valid = X[columns][train_index], X[columns][valid_index]\n",
    "            y_train, y_valid = y[train_index], y[valid_index]\n",
    "        else:\n",
    "            X_train, X_valid = X[columns].iloc[train_index], X[columns].iloc[valid_index]\n",
    "            y_train, y_valid = y.iloc[train_index], y.iloc[valid_index]\n",
    "            \n",
    "        if model_type == 'lgb':\n",
    "            model = lgb.LGBMRegressor(**params, n_estimators = n_estimators, n_jobs = -1)\n",
    "            model.fit(X_train, y_train, \n",
    "                    eval_set=[(X_train, y_train), (X_valid, y_valid)], eval_metric=metrics_dict[eval_metric]['lgb_metric_name'],\n",
    "                    verbose=verbose, early_stopping_rounds=early_stopping_rounds)\n",
    "            \n",
    "            y_pred_valid = model.predict(X_valid)\n",
    "            y_pred = model.predict(X_test, num_iteration=model.best_iteration_)\n",
    "            \n",
    "        if model_type == 'xgb':\n",
    "            train_data = xgb.DMatrix(data=X_train, label=y_train, feature_names=X.columns)\n",
    "            valid_data = xgb.DMatrix(data=X_valid, label=y_valid, feature_names=X.columns)\n",
    "\n",
    "            watchlist = [(train_data, 'train'), (valid_data, 'valid_data')]\n",
    "            model = xgb.train(dtrain=train_data, num_boost_round=20000, evals=watchlist, early_stopping_rounds=200, verbose_eval=verbose, params=params)\n",
    "            y_pred_valid = model.predict(xgb.DMatrix(X_valid, feature_names=X.columns), ntree_limit=model.best_ntree_limit)\n",
    "            y_pred = model.predict(xgb.DMatrix(X_test, feature_names=X.columns), ntree_limit=model.best_ntree_limit)\n",
    "        \n",
    "        if model_type == 'sklearn':\n",
    "            model = model\n",
    "            model.fit(X_train, y_train)\n",
    "            \n",
    "            y_pred_valid = model.predict(X_valid).reshape(-1,)\n",
    "            score = metrics_dict[eval_metric]['sklearn_scoring_function'](y_valid, y_pred_valid)\n",
    "            print(f'Fold {fold_n}. {eval_metric}: {score:.4f}.')\n",
    "            print('')\n",
    "            \n",
    "            y_pred = model.predict(X_test).reshape(-1,)\n",
    "        \n",
    "        if model_type == 'cat':\n",
    "            model = CatBoostRegressor(iterations=20000,  eval_metric=metrics_dict[eval_metric]['catboost_metric_name'], **params,\n",
    "                                      loss_function=metrics_dict[eval_metric]['catboost_metric_name'])\n",
    "            model.fit(X_train, y_train, eval_set=(X_valid, y_valid), cat_features=[], use_best_model=True, verbose=False)\n",
    "\n",
    "            y_pred_valid = model.predict(X_valid)\n",
    "            y_pred = model.predict(X_test)\n",
    "        \n",
    "        oof[valid_index] = y_pred_valid.reshape(-1,)\n",
    "        if eval_metric != 'group_mae':\n",
    "            scores.append(metrics_dict[eval_metric]['sklearn_scoring_function'](y_valid, y_pred_valid))\n",
    "        else:\n",
    "            scores.append(metrics_dict[eval_metric]['scoring_function'](y_valid, y_pred_valid, X_valid['type']))\n",
    "\n",
    "        prediction += y_pred    \n",
    "        \n",
    "        if model_type == 'lgb' and plot_feature_importance:\n",
    "            # feature importance\n",
    "            fold_importance = pd.DataFrame()\n",
    "            fold_importance[\"feature\"] = columns\n",
    "            fold_importance[\"importance\"] = model.feature_importances_\n",
    "            fold_importance[\"fold\"] = fold_n + 1\n",
    "            feature_importance = pd.concat([feature_importance, fold_importance], axis=0)\n",
    "\n",
    "    prediction /= folds.n_splits\n",
    "    \n",
    "    print('CV mean score: {0:.4f}, std: {1:.4f}.'.format(np.mean(scores), np.std(scores)))\n",
    "    \n",
    "    result_dict['oof'] = oof\n",
    "    result_dict['prediction'] = prediction\n",
    "    result_dict['scores'] = scores\n",
    "    \n",
    "    if model_type == 'lgb':\n",
    "        if plot_feature_importance:\n",
    "            feature_importance[\"importance\"] /= folds.n_splits\n",
    "            cols = feature_importance[[\"feature\", \"importance\"]].groupby(\"feature\").mean().sort_values(\n",
    "                by=\"importance\", ascending=False)[:50].index\n",
    "\n",
    "            best_features = feature_importance.loc[feature_importance.feature.isin(cols)]\n",
    "\n",
    "            plt.figure(figsize=(16, 12));\n",
    "            sns.barplot(x=\"importance\", y=\"feature\", data=best_features.sort_values(by=\"importance\", ascending=False));\n",
    "            plt.title('LGB Features (avg over folds)');\n",
    "            \n",
    "            result_dict['feature_importance'] = feature_importance\n",
    "        \n",
    "    return result_dict"
   ]
  },
  {
   "cell_type": "code",
   "execution_count": 24,
   "metadata": {},
   "outputs": [],
   "source": [
    "def group_mean_log_mae(y_true, y_pred, types, floor=1e-9):\n",
    "    \"\"\"\n",
    "    Fast metric computation for this competition: https://www.kaggle.com/c/champs-scalar-coupling\n",
    "    Code is from this kernel: https://www.kaggle.com/uberkinder/efficient-metric\n",
    "    \"\"\"\n",
    "    maes = (y_true-y_pred).abs().groupby(types).mean()\n",
    "    return np.log(maes.map(lambda x: max(x, floor))).mean()"
   ]
  },
  {
   "cell_type": "code",
   "execution_count": 25,
   "metadata": {},
   "outputs": [
    {
     "data": {
      "text/html": [
       "<div>\n",
       "<style scoped>\n",
       "    .dataframe tbody tr th:only-of-type {\n",
       "        vertical-align: middle;\n",
       "    }\n",
       "\n",
       "    .dataframe tbody tr th {\n",
       "        vertical-align: top;\n",
       "    }\n",
       "\n",
       "    .dataframe thead th {\n",
       "        text-align: right;\n",
       "    }\n",
       "</style>\n",
       "<table border=\"1\" class=\"dataframe\">\n",
       "  <thead>\n",
       "    <tr style=\"text-align: right;\">\n",
       "      <th></th>\n",
       "      <th>Clip</th>\n",
       "      <th>Activity</th>\n",
       "      <th>Assessment</th>\n",
       "      <th>Game</th>\n",
       "      <th>session_title</th>\n",
       "      <th>accumulated_correct_attempts</th>\n",
       "      <th>accumulated_uncorrect_attempts</th>\n",
       "      <th>duration_mean</th>\n",
       "      <th>accumulated_accuracy</th>\n",
       "      <th>0</th>\n",
       "      <th>1</th>\n",
       "      <th>2</th>\n",
       "      <th>3</th>\n",
       "      <th>accumulated_accuracy_group</th>\n",
       "      <th>accumulated_actions</th>\n",
       "      <th>type</th>\n",
       "    </tr>\n",
       "  </thead>\n",
       "  <tbody>\n",
       "    <tr>\n",
       "      <th>0</th>\n",
       "      <td>11</td>\n",
       "      <td>3</td>\n",
       "      <td>0</td>\n",
       "      <td>4</td>\n",
       "      <td>29</td>\n",
       "      <td>0</td>\n",
       "      <td>0</td>\n",
       "      <td>0.000000000000000</td>\n",
       "      <td>0.0</td>\n",
       "      <td>0</td>\n",
       "      <td>0</td>\n",
       "      <td>0</td>\n",
       "      <td>0</td>\n",
       "      <td>0.0</td>\n",
       "      <td>647</td>\n",
       "      <td>1</td>\n",
       "    </tr>\n",
       "    <tr>\n",
       "      <th>1</th>\n",
       "      <td>14</td>\n",
       "      <td>4</td>\n",
       "      <td>1</td>\n",
       "      <td>6</td>\n",
       "      <td>36</td>\n",
       "      <td>1</td>\n",
       "      <td>0</td>\n",
       "      <td>39.000000000000000</td>\n",
       "      <td>1.0</td>\n",
       "      <td>0</td>\n",
       "      <td>0</td>\n",
       "      <td>0</td>\n",
       "      <td>1</td>\n",
       "      <td>3.0</td>\n",
       "      <td>1143</td>\n",
       "      <td>1</td>\n",
       "    </tr>\n",
       "    <tr>\n",
       "      <th>2</th>\n",
       "      <td>14</td>\n",
       "      <td>4</td>\n",
       "      <td>2</td>\n",
       "      <td>6</td>\n",
       "      <td>29</td>\n",
       "      <td>1</td>\n",
       "      <td>11</td>\n",
       "      <td>65.500000000000000</td>\n",
       "      <td>0.5</td>\n",
       "      <td>1</td>\n",
       "      <td>0</td>\n",
       "      <td>0</td>\n",
       "      <td>1</td>\n",
       "      <td>1.5</td>\n",
       "      <td>1230</td>\n",
       "      <td>1</td>\n",
       "    </tr>\n",
       "    <tr>\n",
       "      <th>3</th>\n",
       "      <td>24</td>\n",
       "      <td>9</td>\n",
       "      <td>4</td>\n",
       "      <td>10</td>\n",
       "      <td>29</td>\n",
       "      <td>2</td>\n",
       "      <td>11</td>\n",
       "      <td>41.250000000000000</td>\n",
       "      <td>0.5</td>\n",
       "      <td>2</td>\n",
       "      <td>0</td>\n",
       "      <td>0</td>\n",
       "      <td>2</td>\n",
       "      <td>1.5</td>\n",
       "      <td>2159</td>\n",
       "      <td>1</td>\n",
       "    </tr>\n",
       "    <tr>\n",
       "      <th>4</th>\n",
       "      <td>28</td>\n",
       "      <td>10</td>\n",
       "      <td>5</td>\n",
       "      <td>13</td>\n",
       "      <td>36</td>\n",
       "      <td>3</td>\n",
       "      <td>12</td>\n",
       "      <td>39.200000000000003</td>\n",
       "      <td>0.5</td>\n",
       "      <td>2</td>\n",
       "      <td>0</td>\n",
       "      <td>1</td>\n",
       "      <td>2</td>\n",
       "      <td>1.6</td>\n",
       "      <td>2586</td>\n",
       "      <td>1</td>\n",
       "    </tr>\n",
       "  </tbody>\n",
       "</table>\n",
       "</div>"
      ],
      "text/plain": [
       "   Clip  Activity  Assessment  Game  session_title  \\\n",
       "0    11         3           0     4             29   \n",
       "1    14         4           1     6             36   \n",
       "2    14         4           2     6             29   \n",
       "3    24         9           4    10             29   \n",
       "4    28        10           5    13             36   \n",
       "\n",
       "   accumulated_correct_attempts  accumulated_uncorrect_attempts  \\\n",
       "0                             0                               0   \n",
       "1                             1                               0   \n",
       "2                             1                              11   \n",
       "3                             2                              11   \n",
       "4                             3                              12   \n",
       "\n",
       "        duration_mean  accumulated_accuracy  0  1  2  3  \\\n",
       "0   0.000000000000000                   0.0  0  0  0  0   \n",
       "1  39.000000000000000                   1.0  0  0  0  1   \n",
       "2  65.500000000000000                   0.5  1  0  0  1   \n",
       "3  41.250000000000000                   0.5  2  0  0  2   \n",
       "4  39.200000000000003                   0.5  2  0  1  2   \n",
       "\n",
       "   accumulated_accuracy_group  accumulated_actions  type  \n",
       "0                         0.0                  647     1  \n",
       "1                         3.0                 1143     1  \n",
       "2                         1.5                 1230     1  \n",
       "3                         1.5                 2159     1  \n",
       "4                         1.6                 2586     1  "
      ]
     },
     "execution_count": 25,
     "metadata": {},
     "output_type": "execute_result"
    }
   ],
   "source": [
    "def del_cols(df, cols):\n",
    "    del_cols_list_ = [l for l in cols if l in df]\n",
    "    df = df.drop(del_cols_list_,axis=1)\n",
    "    return df\n",
    "\n",
    "y_train = new_train[\"accuracy_group\"]\n",
    "x_train = del_cols(new_train, [\"accuracy_group\"])\n",
    "x_test = new_test\n",
    "x_train.head(5)"
   ]
  },
  {
   "cell_type": "code",
   "execution_count": 26,
   "metadata": {},
   "outputs": [
    {
     "data": {
      "text/plain": [
       "17690"
      ]
     },
     "execution_count": 26,
     "metadata": {},
     "output_type": "execute_result"
    }
   ],
   "source": [
    "#y_train = new_train[\"accuracy_group\"]\n",
    "len(y_train)"
   ]
  },
  {
   "cell_type": "code",
   "execution_count": 27,
   "metadata": {},
   "outputs": [],
   "source": [
    "import optuna"
   ]
  },
  {
   "cell_type": "code",
   "execution_count": 28,
   "metadata": {},
   "outputs": [],
   "source": [
    "n_fold = 10\n",
    "folds = KFold(n_splits=n_fold, shuffle=True, random_state=11)"
   ]
  },
  {
   "cell_type": "code",
   "execution_count": 29,
   "metadata": {},
   "outputs": [],
   "source": [
    "X_short = pd.DataFrame({'ind': list(new_train.index), \n",
    "                        'type': new_train['type'].values,\n",
    "                        'oof': [0] * len(new_train), \n",
    "                        'target': y_train.values})\n",
    "X_short_test = pd.DataFrame({'ind': list(new_test.index), \n",
    "                             'type': new_test['type'].values, \n",
    "                             'prediction': [0] * len(new_test)})"
   ]
  },
  {
   "cell_type": "code",
   "execution_count": 33,
   "metadata": {},
   "outputs": [],
   "source": [
    "n_estimators = [2000]"
   ]
  },
  {
   "cell_type": "markdown",
   "metadata": {},
   "source": [
    "# Optimize hyper parameters using by Optuna"
   ]
  },
  {
   "cell_type": "code",
   "execution_count": 34,
   "metadata": {},
   "outputs": [],
   "source": [
    "def objective(trial):\n",
    "    max_depth = trial.suggest_int('max_depth', 4, 9)\n",
    "    feature_fraction = trial.suggest_uniform('feature_fraction', 0, 1.0)\n",
    "    learning_rate = trial.suggest_uniform('learning_rate', 1e-5, 1.0)\n",
    "    subsample = trial.suggest_uniform('subsample', 0.5, 1.0)\n",
    "    num_leaves = trial.suggest_int('num_leaves', 5, 200)\n",
    "    verbosity = trial.suggest_int('verbosity', -1, 1)\n",
    "    #num_boost_round = trial.suggest_int('num_boost_round', 10, 100000)\n",
    "    min_data_in_leaf = trial.suggest_int('min_data_in_leaf', 10, 500)\n",
    "    min_child_samples = trial.suggest_int('min_child_samples', 5, 500)\n",
    "    boosting_type = trial.suggest_categorical('boosting', [\"gbdt\", \"dart\",\"goss\"])\n",
    "\n",
    "    params = {'num_leaves': num_leaves,\n",
    "          'min_child_samples': min_child_samples,\n",
    "          'objective': 'regression',  #I will check it.\n",
    "          'max_depth': max_depth,\n",
    "          'learning_rate': learning_rate,\n",
    "          \"boosting_type\": boosting_type,\n",
    "          \"max_bin\":64, \n",
    "          \"min_data_in_leaf\":min_data_in_leaf,\n",
    "          \"subsample_freq\": 1,\n",
    "          \"subsample\": subsample,\n",
    "          \"bagging_seed\": 11,\n",
    "          \"metric\": 'mae',\n",
    "          \"verbosity\": verbosity,\n",
    "          #'reg_alpha': 0.8,\n",
    "          #'reg_lambda': 0.2,\n",
    "          #'colsample_bytree': 0.6\n",
    "          'lambda_l1': 0.8,\n",
    "          'lambda_l2': 0.2,\n",
    "          'feature_fraction': 0.9,\n",
    "         }\n",
    "\n",
    "    #Run\n",
    "    CV_score = 0\n",
    "\n",
    "    for t in new_train['type'].unique():\n",
    "        type_ = t\n",
    "        print(f'\\nTraining of type {t}: {type_}.')\n",
    "        index_type = (new_train['type'] == t)\n",
    "        index_type_test = (new_test['type'] == t)\n",
    "    \n",
    "        X_t = x_train.loc[index_type].copy()\n",
    "        X_test_t = x_test.loc[index_type_test].copy()\n",
    "        y_t = y_train[index_type]\n",
    "\n",
    "    \n",
    "        result_dict_lgb = train_model_regression(X=X_t, X_test=X_test_t, \n",
    "                                                  y=y_t, params=params, \n",
    "                                                  folds=folds, \n",
    "                                                  model_type='lgb', \n",
    "                                                  eval_metric='mae', \n",
    "                                                  plot_feature_importance=True,\n",
    "                                                  verbose=500, early_stopping_rounds=200, \n",
    "                                                  n_estimators=n_estimators[t-1])\n",
    "        del X_t, X_test_t\n",
    "        gc.collect()\n",
    "    \n",
    "        X_short.loc[X_short['type'] == t, 'oof'] = result_dict_lgb['oof']\n",
    "        X_short_test.loc[X_short_test['type'] == t, 'prediction'] = result_dict_lgb['prediction']\n",
    "        \n",
    "        ## manually computing the cv score\n",
    "        CV_score += np.log(np.array(result_dict_lgb['scores']).mean())/8 # total 8 types\n",
    "        \n",
    "        result = pd.DataFrame({\"y_train\":new_train[\"accuracy_group\"],\n",
    "                      \"y_pred\":result_dict_lgb['oof']})\n",
    "        result[\"y_pred\"]= np.round(result.y_pred).astype('int')\n",
    "        from sklearn.metrics import confusion_matrix, cohen_kappa_score\n",
    "        kappa = cohen_kappa_score(result.y_train, result.y_pred, weights='quadratic')\n",
    "    \n",
    "    return -kappa"
   ]
  },
  {
   "cell_type": "code",
   "execution_count": 35,
   "metadata": {},
   "outputs": [
    {
     "name": "stdout",
     "output_type": "stream",
     "text": [
      "\n",
      "Training of type 1: 1.\n",
      "Fold 1 started at Wed Nov  6 10:51:01 2019\n",
      "Training until validation scores don't improve for 200 rounds\n",
      "Early stopping, best iteration is:\n",
      "[42]\ttraining's l1: 0.787878\tvalid_1's l1: 0.840219\n",
      "Fold 2 started at Wed Nov  6 10:51:02 2019\n",
      "Training until validation scores don't improve for 200 rounds\n",
      "Early stopping, best iteration is:\n",
      "[18]\ttraining's l1: 0.809305\tvalid_1's l1: 0.858375\n",
      "Fold 3 started at Wed Nov  6 10:51:03 2019\n",
      "Training until validation scores don't improve for 200 rounds\n",
      "Early stopping, best iteration is:\n",
      "[8]\ttraining's l1: 0.83217\tvalid_1's l1: 0.833631\n",
      "Fold 4 started at Wed Nov  6 10:51:03 2019\n",
      "Training until validation scores don't improve for 200 rounds\n",
      "Early stopping, best iteration is:\n",
      "[10]\ttraining's l1: 0.827344\tvalid_1's l1: 0.878842\n",
      "Fold 5 started at Wed Nov  6 10:51:04 2019\n",
      "Training until validation scores don't improve for 200 rounds\n",
      "Early stopping, best iteration is:\n",
      "[12]\ttraining's l1: 0.819717\tvalid_1's l1: 0.860857\n",
      "Fold 6 started at Wed Nov  6 10:51:05 2019\n",
      "Training until validation scores don't improve for 200 rounds\n",
      "Early stopping, best iteration is:\n",
      "[55]\ttraining's l1: 0.78143\tvalid_1's l1: 0.836919\n",
      "Fold 7 started at Wed Nov  6 10:51:05 2019\n",
      "Training until validation scores don't improve for 200 rounds\n",
      "Early stopping, best iteration is:\n",
      "[22]\ttraining's l1: 0.810155\tvalid_1's l1: 0.828074\n",
      "Fold 8 started at Wed Nov  6 10:51:06 2019\n",
      "Training until validation scores don't improve for 200 rounds\n",
      "Early stopping, best iteration is:\n",
      "[29]\ttraining's l1: 0.800152\tvalid_1's l1: 0.845849\n",
      "Fold 9 started at Wed Nov  6 10:51:07 2019\n",
      "Training until validation scores don't improve for 200 rounds\n",
      "Early stopping, best iteration is:\n",
      "[13]\ttraining's l1: 0.820923\tvalid_1's l1: 0.835809\n",
      "Fold 10 started at Wed Nov  6 10:51:07 2019\n",
      "Training until validation scores don't improve for 200 rounds\n",
      "Early stopping, best iteration is:\n",
      "[22]\ttraining's l1: 0.811653\tvalid_1's l1: 0.824027\n",
      "CV mean score: 0.8443, std: 0.0161.\n"
     ]
    },
    {
     "name": "stderr",
     "output_type": "stream",
     "text": [
      "[I 2019-11-06 10:51:09,235] Finished trial#0 resulted in value: -0.4745232704946879. Current best value is -0.4745232704946879 with parameters: {'max_depth': 5, 'feature_fraction': 0.3058830425173462, 'learning_rate': 0.8141481026749143, 'subsample': 0.8025647293945135, 'num_leaves': 88, 'verbosity': 1, 'min_data_in_leaf': 230, 'min_child_samples': 142, 'boosting': 'gbdt'}.\n"
     ]
    },
    {
     "name": "stdout",
     "output_type": "stream",
     "text": [
      "\n",
      "Training of type 1: 1.\n",
      "Fold 1 started at Wed Nov  6 10:51:09 2019\n"
     ]
    },
    {
     "name": "stderr",
     "output_type": "stream",
     "text": [
      "[W 2019-11-06 10:51:09,307] Setting status of trial#1 as TrialState.FAIL because of the following error: LightGBMError('Cannot use bagging in GOSS',)\n",
      "Traceback (most recent call last):\n",
      "  File \"/opt/conda/lib/python3.6/site-packages/optuna/study.py\", line 505, in _run_trial\n",
      "    result = func(trial)\n",
      "  File \"<ipython-input-34-056bebba6e2c>\", line 55, in objective\n",
      "    n_estimators=n_estimators[t-1])\n",
      "  File \"<ipython-input-23-7f770cb83d7f>\", line 60, in train_model_regression\n",
      "    verbose=verbose, early_stopping_rounds=early_stopping_rounds)\n",
      "  File \"/opt/conda/lib/python3.6/site-packages/lightgbm/sklearn.py\", line 738, in fit\n",
      "    callbacks=callbacks)\n",
      "  File \"/opt/conda/lib/python3.6/site-packages/lightgbm/sklearn.py\", line 595, in fit\n",
      "    callbacks=callbacks)\n",
      "  File \"/opt/conda/lib/python3.6/site-packages/lightgbm/engine.py\", line 228, in train\n",
      "    booster = Booster(params=params, train_set=train_set)\n",
      "  File \"/opt/conda/lib/python3.6/site-packages/lightgbm/basic.py\", line 1666, in __init__\n",
      "    ctypes.byref(self.handle)))\n",
      "  File \"/opt/conda/lib/python3.6/site-packages/lightgbm/basic.py\", line 47, in _safe_call\n",
      "    raise LightGBMError(decode_string(_LIB.LGBM_GetLastError()))\n",
      "lightgbm.basic.LightGBMError: Cannot use bagging in GOSS\n"
     ]
    },
    {
     "name": "stdout",
     "output_type": "stream",
     "text": [
      "\n",
      "Training of type 1: 1.\n",
      "Fold 1 started at Wed Nov  6 10:51:09 2019\n",
      "Training until validation scores don't improve for 200 rounds\n",
      "Early stopping, best iteration is:\n",
      "[173]\ttraining's l1: 0.726972\tvalid_1's l1: 0.835817\n",
      "Fold 2 started at Wed Nov  6 10:51:10 2019\n",
      "Training until validation scores don't improve for 200 rounds\n",
      "[500]\ttraining's l1: 0.620908\tvalid_1's l1: 0.849881\n",
      "Early stopping, best iteration is:\n",
      "[303]\ttraining's l1: 0.67574\tvalid_1's l1: 0.840982\n",
      "Fold 3 started at Wed Nov  6 10:51:11 2019\n",
      "Training until validation scores don't improve for 200 rounds\n",
      "Early stopping, best iteration is:\n",
      "[199]\ttraining's l1: 0.716947\tvalid_1's l1: 0.827531\n",
      "Fold 4 started at Wed Nov  6 10:51:12 2019\n",
      "Training until validation scores don't improve for 200 rounds\n",
      "Early stopping, best iteration is:\n",
      "[111]\ttraining's l1: 0.755719\tvalid_1's l1: 0.863418\n",
      "Fold 5 started at Wed Nov  6 10:51:13 2019\n",
      "Training until validation scores don't improve for 200 rounds\n",
      "Early stopping, best iteration is:\n",
      "[187]\ttraining's l1: 0.718307\tvalid_1's l1: 0.854828\n",
      "Fold 6 started at Wed Nov  6 10:51:14 2019\n",
      "Training until validation scores don't improve for 200 rounds\n",
      "[500]\ttraining's l1: 0.623718\tvalid_1's l1: 0.828642\n",
      "Early stopping, best iteration is:\n",
      "[314]\ttraining's l1: 0.674149\tvalid_1's l1: 0.82321\n",
      "Fold 7 started at Wed Nov  6 10:51:16 2019\n",
      "Training until validation scores don't improve for 200 rounds\n",
      "Early stopping, best iteration is:\n",
      "[94]\ttraining's l1: 0.769928\tvalid_1's l1: 0.831039\n",
      "Fold 8 started at Wed Nov  6 10:51:17 2019\n",
      "Training until validation scores don't improve for 200 rounds\n",
      "Early stopping, best iteration is:\n",
      "[220]\ttraining's l1: 0.70932\tvalid_1's l1: 0.835995\n",
      "Fold 9 started at Wed Nov  6 10:51:18 2019\n",
      "Training until validation scores don't improve for 200 rounds\n",
      "Early stopping, best iteration is:\n",
      "[258]\ttraining's l1: 0.694558\tvalid_1's l1: 0.822973\n",
      "Fold 10 started at Wed Nov  6 10:51:19 2019\n",
      "Training until validation scores don't improve for 200 rounds\n",
      "Early stopping, best iteration is:\n",
      "[203]\ttraining's l1: 0.717628\tvalid_1's l1: 0.817845\n",
      "CV mean score: 0.8354, std: 0.0137.\n"
     ]
    },
    {
     "name": "stderr",
     "output_type": "stream",
     "text": [
      "[I 2019-11-06 10:51:21,386] Finished trial#2 resulted in value: -0.4852817286359832. Current best value is -0.4852817286359832 with parameters: {'max_depth': 9, 'feature_fraction': 0.9837729192965413, 'learning_rate': 0.19449756501328536, 'subsample': 0.8416208474888902, 'num_leaves': 19, 'verbosity': -1, 'min_data_in_leaf': 40, 'min_child_samples': 314, 'boosting': 'gbdt'}.\n"
     ]
    },
    {
     "name": "stdout",
     "output_type": "stream",
     "text": [
      "\n",
      "Training of type 1: 1.\n",
      "Fold 1 started at Wed Nov  6 10:51:21 2019\n",
      "Training until validation scores don't improve for 200 rounds\n",
      "Early stopping, best iteration is:\n",
      "[65]\ttraining's l1: 0.77354\tvalid_1's l1: 0.842007\n",
      "Fold 2 started at Wed Nov  6 10:51:22 2019\n",
      "Training until validation scores don't improve for 200 rounds\n",
      "Early stopping, best iteration is:\n",
      "[45]\ttraining's l1: 0.785274\tvalid_1's l1: 0.865824\n",
      "Fold 3 started at Wed Nov  6 10:51:22 2019\n",
      "Training until validation scores don't improve for 200 rounds\n",
      "Early stopping, best iteration is:\n",
      "[32]\ttraining's l1: 0.796399\tvalid_1's l1: 0.82778\n",
      "Fold 4 started at Wed Nov  6 10:51:23 2019\n",
      "Training until validation scores don't improve for 200 rounds\n",
      "Early stopping, best iteration is:\n",
      "[25]\ttraining's l1: 0.800104\tvalid_1's l1: 0.866584\n",
      "Fold 5 started at Wed Nov  6 10:51:24 2019\n",
      "Training until validation scores don't improve for 200 rounds\n",
      "Early stopping, best iteration is:\n",
      "[32]\ttraining's l1: 0.796075\tvalid_1's l1: 0.860454\n",
      "Fold 6 started at Wed Nov  6 10:51:24 2019\n",
      "Training until validation scores don't improve for 200 rounds\n",
      "Early stopping, best iteration is:\n",
      "[68]\ttraining's l1: 0.772418\tvalid_1's l1: 0.831246\n",
      "Fold 7 started at Wed Nov  6 10:51:25 2019\n",
      "Training until validation scores don't improve for 200 rounds\n",
      "Early stopping, best iteration is:\n",
      "[14]\ttraining's l1: 0.822285\tvalid_1's l1: 0.840364\n",
      "Fold 8 started at Wed Nov  6 10:51:26 2019\n",
      "Training until validation scores don't improve for 200 rounds\n",
      "Early stopping, best iteration is:\n",
      "[16]\ttraining's l1: 0.818274\tvalid_1's l1: 0.847814\n",
      "Fold 9 started at Wed Nov  6 10:51:27 2019\n",
      "Training until validation scores don't improve for 200 rounds\n",
      "Early stopping, best iteration is:\n",
      "[91]\ttraining's l1: 0.760058\tvalid_1's l1: 0.835745\n",
      "Fold 10 started at Wed Nov  6 10:51:27 2019\n",
      "Training until validation scores don't improve for 200 rounds\n",
      "Early stopping, best iteration is:\n",
      "[4]\ttraining's l1: 0.839754\tvalid_1's l1: 0.8272\n",
      "CV mean score: 0.8445, std: 0.0144.\n"
     ]
    },
    {
     "name": "stderr",
     "output_type": "stream",
     "text": [
      "[I 2019-11-06 10:51:29,197] Finished trial#3 resulted in value: -0.4774914250566593. Current best value is -0.4852817286359832 with parameters: {'max_depth': 9, 'feature_fraction': 0.9837729192965413, 'learning_rate': 0.19449756501328536, 'subsample': 0.8416208474888902, 'num_leaves': 19, 'verbosity': -1, 'min_data_in_leaf': 40, 'min_child_samples': 314, 'boosting': 'gbdt'}.\n"
     ]
    },
    {
     "name": "stdout",
     "output_type": "stream",
     "text": [
      "\n",
      "Training of type 1: 1.\n",
      "Fold 1 started at Wed Nov  6 10:51:29 2019\n",
      "[500]\ttraining's l1: 0.706468\tvalid_1's l1: 0.871511\n",
      "[1000]\ttraining's l1: 0.66407\tvalid_1's l1: 0.888153\n",
      "[1500]\ttraining's l1: 0.635851\tvalid_1's l1: 0.890376\n",
      "[2000]\ttraining's l1: 0.605109\tvalid_1's l1: 0.899798\n",
      "Fold 2 started at Wed Nov  6 10:52:25 2019\n",
      "[500]\ttraining's l1: 0.707283\tvalid_1's l1: 0.875879\n",
      "[1000]\ttraining's l1: 0.66525\tvalid_1's l1: 0.880661\n",
      "[1500]\ttraining's l1: 0.629965\tvalid_1's l1: 0.90118\n",
      "[2000]\ttraining's l1: 0.601502\tvalid_1's l1: 0.914069\n",
      "Fold 3 started at Wed Nov  6 10:53:19 2019\n",
      "[500]\ttraining's l1: 0.706057\tvalid_1's l1: 0.849728\n",
      "[1000]\ttraining's l1: 0.662218\tvalid_1's l1: 0.86442\n",
      "[1500]\ttraining's l1: 0.634808\tvalid_1's l1: 0.887987\n",
      "[2000]\ttraining's l1: 0.600728\tvalid_1's l1: 0.90484\n",
      "Fold 4 started at Wed Nov  6 10:54:18 2019\n",
      "[500]\ttraining's l1: 0.700561\tvalid_1's l1: 0.904032\n",
      "[1000]\ttraining's l1: 0.654969\tvalid_1's l1: 0.92511\n",
      "[1500]\ttraining's l1: 0.626334\tvalid_1's l1: 0.941318\n",
      "[2000]\ttraining's l1: 0.596031\tvalid_1's l1: 0.958172\n",
      "Fold 5 started at Wed Nov  6 10:55:13 2019\n",
      "[500]\ttraining's l1: 0.703058\tvalid_1's l1: 0.891817\n",
      "[1000]\ttraining's l1: 0.657704\tvalid_1's l1: 0.908129\n",
      "[1500]\ttraining's l1: 0.630811\tvalid_1's l1: 0.930708\n",
      "[2000]\ttraining's l1: 0.595558\tvalid_1's l1: 0.942592\n",
      "Fold 6 started at Wed Nov  6 10:56:07 2019\n",
      "[500]\ttraining's l1: 0.70878\tvalid_1's l1: 0.855682\n",
      "[1000]\ttraining's l1: 0.667095\tvalid_1's l1: 0.868694\n",
      "[1500]\ttraining's l1: 0.63501\tvalid_1's l1: 0.873754\n",
      "[2000]\ttraining's l1: 0.600688\tvalid_1's l1: 0.881615\n",
      "Fold 7 started at Wed Nov  6 10:57:02 2019\n",
      "[500]\ttraining's l1: 0.70543\tvalid_1's l1: 0.863394\n",
      "[1000]\ttraining's l1: 0.663263\tvalid_1's l1: 0.888043\n",
      "[1500]\ttraining's l1: 0.633066\tvalid_1's l1: 0.901313\n",
      "[2000]\ttraining's l1: 0.599822\tvalid_1's l1: 0.924164\n",
      "Fold 8 started at Wed Nov  6 10:57:57 2019\n",
      "[500]\ttraining's l1: 0.704392\tvalid_1's l1: 0.861593\n",
      "[1000]\ttraining's l1: 0.661635\tvalid_1's l1: 0.865387\n",
      "[1500]\ttraining's l1: 0.635655\tvalid_1's l1: 0.874416\n",
      "[2000]\ttraining's l1: 0.603348\tvalid_1's l1: 0.890593\n",
      "Fold 9 started at Wed Nov  6 10:58:53 2019\n",
      "[500]\ttraining's l1: 0.707763\tvalid_1's l1: 0.854892\n",
      "[1000]\ttraining's l1: 0.66681\tvalid_1's l1: 0.871115\n",
      "[1500]\ttraining's l1: 0.637414\tvalid_1's l1: 0.889556\n",
      "[2000]\ttraining's l1: 0.608758\tvalid_1's l1: 0.893062\n",
      "Fold 10 started at Wed Nov  6 10:59:47 2019\n",
      "[500]\ttraining's l1: 0.713691\tvalid_1's l1: 0.840995\n",
      "[1000]\ttraining's l1: 0.665424\tvalid_1's l1: 0.859219\n",
      "[1500]\ttraining's l1: 0.632548\tvalid_1's l1: 0.876464\n",
      "[2000]\ttraining's l1: 0.602722\tvalid_1's l1: 0.896653\n",
      "CV mean score: 0.9106, std: 0.0232.\n"
     ]
    },
    {
     "name": "stderr",
     "output_type": "stream",
     "text": [
      "[I 2019-11-06 11:00:43,415] Finished trial#4 resulted in value: -0.4463339361643154. Current best value is -0.4852817286359832 with parameters: {'max_depth': 9, 'feature_fraction': 0.9837729192965413, 'learning_rate': 0.19449756501328536, 'subsample': 0.8416208474888902, 'num_leaves': 19, 'verbosity': -1, 'min_data_in_leaf': 40, 'min_child_samples': 314, 'boosting': 'gbdt'}.\n"
     ]
    },
    {
     "name": "stdout",
     "output_type": "stream",
     "text": [
      "\n",
      "Training of type 1: 1.\n",
      "Fold 1 started at Wed Nov  6 11:00:43 2019\n",
      "[500]\ttraining's l1: 0.702789\tvalid_1's l1: 0.839879\n",
      "[1000]\ttraining's l1: 0.652656\tvalid_1's l1: 0.839226\n",
      "[1500]\ttraining's l1: 0.612888\tvalid_1's l1: 0.847462\n",
      "[2000]\ttraining's l1: 0.572839\tvalid_1's l1: 0.850767\n",
      "Fold 2 started at Wed Nov  6 11:01:59 2019\n",
      "[500]\ttraining's l1: 0.703106\tvalid_1's l1: 0.844877\n",
      "[1000]\ttraining's l1: 0.651362\tvalid_1's l1: 0.84948\n",
      "[1500]\ttraining's l1: 0.60833\tvalid_1's l1: 0.857444\n",
      "[2000]\ttraining's l1: 0.569978\tvalid_1's l1: 0.858319\n",
      "Fold 3 started at Wed Nov  6 11:03:16 2019\n",
      "[500]\ttraining's l1: 0.703985\tvalid_1's l1: 0.82622\n",
      "[1000]\ttraining's l1: 0.650251\tvalid_1's l1: 0.83068\n",
      "[1500]\ttraining's l1: 0.612564\tvalid_1's l1: 0.832759\n",
      "[2000]\ttraining's l1: 0.571359\tvalid_1's l1: 0.835989\n",
      "Fold 4 started at Wed Nov  6 11:04:34 2019\n",
      "[500]\ttraining's l1: 0.698559\tvalid_1's l1: 0.871993\n",
      "[1000]\ttraining's l1: 0.646169\tvalid_1's l1: 0.878358\n",
      "[1500]\ttraining's l1: 0.606266\tvalid_1's l1: 0.885027\n",
      "[2000]\ttraining's l1: 0.567727\tvalid_1's l1: 0.887898\n",
      "Fold 5 started at Wed Nov  6 11:05:50 2019\n",
      "[500]\ttraining's l1: 0.70023\tvalid_1's l1: 0.864358\n",
      "[1000]\ttraining's l1: 0.650352\tvalid_1's l1: 0.873912\n",
      "[1500]\ttraining's l1: 0.608419\tvalid_1's l1: 0.879642\n",
      "[2000]\ttraining's l1: 0.567213\tvalid_1's l1: 0.878138\n",
      "Fold 6 started at Wed Nov  6 11:07:07 2019\n",
      "[500]\ttraining's l1: 0.704271\tvalid_1's l1: 0.826445\n",
      "[1000]\ttraining's l1: 0.651388\tvalid_1's l1: 0.827266\n",
      "[1500]\ttraining's l1: 0.610212\tvalid_1's l1: 0.833539\n",
      "[2000]\ttraining's l1: 0.570068\tvalid_1's l1: 0.833728\n",
      "Fold 7 started at Wed Nov  6 11:08:23 2019\n",
      "[500]\ttraining's l1: 0.706969\tvalid_1's l1: 0.829233\n",
      "[1000]\ttraining's l1: 0.653027\tvalid_1's l1: 0.844112\n",
      "[1500]\ttraining's l1: 0.613072\tvalid_1's l1: 0.847401\n",
      "[2000]\ttraining's l1: 0.571266\tvalid_1's l1: 0.851717\n",
      "Fold 8 started at Wed Nov  6 11:09:41 2019\n",
      "[500]\ttraining's l1: 0.70681\tvalid_1's l1: 0.836211\n",
      "[1000]\ttraining's l1: 0.650658\tvalid_1's l1: 0.839479\n",
      "[1500]\ttraining's l1: 0.613462\tvalid_1's l1: 0.83835\n",
      "[2000]\ttraining's l1: 0.575338\tvalid_1's l1: 0.836299\n",
      "Fold 9 started at Wed Nov  6 11:10:57 2019\n",
      "[500]\ttraining's l1: 0.708339\tvalid_1's l1: 0.826819\n",
      "[1000]\ttraining's l1: 0.657543\tvalid_1's l1: 0.834989\n",
      "[1500]\ttraining's l1: 0.614669\tvalid_1's l1: 0.835025\n",
      "[2000]\ttraining's l1: 0.575167\tvalid_1's l1: 0.833739\n",
      "Fold 10 started at Wed Nov  6 11:12:14 2019\n",
      "[500]\ttraining's l1: 0.707504\tvalid_1's l1: 0.822426\n",
      "[1000]\ttraining's l1: 0.654913\tvalid_1's l1: 0.817026\n",
      "[1500]\ttraining's l1: 0.614511\tvalid_1's l1: 0.824392\n",
      "[2000]\ttraining's l1: 0.572551\tvalid_1's l1: 0.835325\n",
      "CV mean score: 0.8502, std: 0.0185.\n"
     ]
    },
    {
     "name": "stderr",
     "output_type": "stream",
     "text": [
      "[I 2019-11-06 11:13:31,039] Finished trial#5 resulted in value: -0.4799267104363363. Current best value is -0.4852817286359832 with parameters: {'max_depth': 9, 'feature_fraction': 0.9837729192965413, 'learning_rate': 0.19449756501328536, 'subsample': 0.8416208474888902, 'num_leaves': 19, 'verbosity': -1, 'min_data_in_leaf': 40, 'min_child_samples': 314, 'boosting': 'gbdt'}.\n"
     ]
    },
    {
     "name": "stdout",
     "output_type": "stream",
     "text": [
      "\n",
      "Training of type 1: 1.\n",
      "Fold 1 started at Wed Nov  6 11:13:31 2019\n",
      "[500]\ttraining's l1: 0.765006\tvalid_1's l1: 0.84279\n",
      "[1000]\ttraining's l1: 0.738873\tvalid_1's l1: 0.843957\n",
      "[1500]\ttraining's l1: 0.719807\tvalid_1's l1: 0.846995\n",
      "[2000]\ttraining's l1: 0.696471\tvalid_1's l1: 0.860683\n",
      "Fold 2 started at Wed Nov  6 11:14:11 2019\n",
      "[500]\ttraining's l1: 0.765801\tvalid_1's l1: 0.862143\n",
      "[1000]\ttraining's l1: 0.735604\tvalid_1's l1: 0.864765\n",
      "[1500]\ttraining's l1: 0.713047\tvalid_1's l1: 0.876925\n",
      "[2000]\ttraining's l1: 0.694996\tvalid_1's l1: 0.874975\n",
      "Fold 3 started at Wed Nov  6 11:14:52 2019\n",
      "[500]\ttraining's l1: 0.765895\tvalid_1's l1: 0.83605\n",
      "[1000]\ttraining's l1: 0.738868\tvalid_1's l1: 0.843911\n",
      "[1500]\ttraining's l1: 0.721611\tvalid_1's l1: 0.849016\n",
      "[2000]\ttraining's l1: 0.698426\tvalid_1's l1: 0.860889\n",
      "Fold 4 started at Wed Nov  6 11:15:32 2019\n",
      "[500]\ttraining's l1: 0.762624\tvalid_1's l1: 0.87706\n",
      "[1000]\ttraining's l1: 0.730695\tvalid_1's l1: 0.888531\n",
      "[1500]\ttraining's l1: 0.713271\tvalid_1's l1: 0.907408\n",
      "[2000]\ttraining's l1: 0.695162\tvalid_1's l1: 0.913374\n",
      "Fold 5 started at Wed Nov  6 11:16:13 2019\n",
      "[500]\ttraining's l1: 0.760014\tvalid_1's l1: 0.879066\n",
      "[1000]\ttraining's l1: 0.734514\tvalid_1's l1: 0.887389\n",
      "[1500]\ttraining's l1: 0.714387\tvalid_1's l1: 0.896177\n",
      "[2000]\ttraining's l1: 0.690837\tvalid_1's l1: 0.899457\n",
      "Fold 6 started at Wed Nov  6 11:16:54 2019\n",
      "[500]\ttraining's l1: 0.768738\tvalid_1's l1: 0.841845\n",
      "[1000]\ttraining's l1: 0.740364\tvalid_1's l1: 0.851704\n",
      "[1500]\ttraining's l1: 0.722376\tvalid_1's l1: 0.854816\n",
      "[2000]\ttraining's l1: 0.699693\tvalid_1's l1: 0.860077\n",
      "Fold 7 started at Wed Nov  6 11:17:35 2019\n",
      "[500]\ttraining's l1: 0.765198\tvalid_1's l1: 0.834065\n",
      "[1000]\ttraining's l1: 0.739481\tvalid_1's l1: 0.860291\n",
      "[1500]\ttraining's l1: 0.719011\tvalid_1's l1: 0.852238\n",
      "[2000]\ttraining's l1: 0.697857\tvalid_1's l1: 0.861415\n",
      "Fold 8 started at Wed Nov  6 11:18:15 2019\n",
      "[500]\ttraining's l1: 0.768595\tvalid_1's l1: 0.850361\n",
      "[1000]\ttraining's l1: 0.741181\tvalid_1's l1: 0.857345\n",
      "[1500]\ttraining's l1: 0.721242\tvalid_1's l1: 0.857795\n",
      "[2000]\ttraining's l1: 0.701024\tvalid_1's l1: 0.874471\n",
      "Fold 9 started at Wed Nov  6 11:18:56 2019\n",
      "[500]\ttraining's l1: 0.768692\tvalid_1's l1: 0.83799\n",
      "[1000]\ttraining's l1: 0.743697\tvalid_1's l1: 0.839208\n",
      "[1500]\ttraining's l1: 0.723572\tvalid_1's l1: 0.846533\n",
      "[2000]\ttraining's l1: 0.704639\tvalid_1's l1: 0.853797\n",
      "Fold 10 started at Wed Nov  6 11:19:36 2019\n",
      "[500]\ttraining's l1: 0.770296\tvalid_1's l1: 0.832446\n",
      "[1000]\ttraining's l1: 0.742856\tvalid_1's l1: 0.838515\n",
      "[1500]\ttraining's l1: 0.72231\tvalid_1's l1: 0.845478\n",
      "[2000]\ttraining's l1: 0.699842\tvalid_1's l1: 0.846756\n",
      "CV mean score: 0.8706, std: 0.0198.\n"
     ]
    },
    {
     "name": "stderr",
     "output_type": "stream",
     "text": [
      "[I 2019-11-06 11:20:17,541] Finished trial#6 resulted in value: -0.46028342269868294. Current best value is -0.4852817286359832 with parameters: {'max_depth': 9, 'feature_fraction': 0.9837729192965413, 'learning_rate': 0.19449756501328536, 'subsample': 0.8416208474888902, 'num_leaves': 19, 'verbosity': -1, 'min_data_in_leaf': 40, 'min_child_samples': 314, 'boosting': 'gbdt'}.\n"
     ]
    },
    {
     "name": "stdout",
     "output_type": "stream",
     "text": [
      "\n",
      "Training of type 1: 1.\n",
      "Fold 1 started at Wed Nov  6 11:20:17 2019\n"
     ]
    },
    {
     "name": "stderr",
     "output_type": "stream",
     "text": [
      "[W 2019-11-06 11:20:17,624] Setting status of trial#7 as TrialState.FAIL because of the following error: LightGBMError('Cannot use bagging in GOSS',)\n",
      "Traceback (most recent call last):\n",
      "  File \"/opt/conda/lib/python3.6/site-packages/optuna/study.py\", line 505, in _run_trial\n",
      "    result = func(trial)\n",
      "  File \"<ipython-input-34-056bebba6e2c>\", line 55, in objective\n",
      "    n_estimators=n_estimators[t-1])\n",
      "  File \"<ipython-input-23-7f770cb83d7f>\", line 60, in train_model_regression\n",
      "    verbose=verbose, early_stopping_rounds=early_stopping_rounds)\n",
      "  File \"/opt/conda/lib/python3.6/site-packages/lightgbm/sklearn.py\", line 738, in fit\n",
      "    callbacks=callbacks)\n",
      "  File \"/opt/conda/lib/python3.6/site-packages/lightgbm/sklearn.py\", line 595, in fit\n",
      "    callbacks=callbacks)\n",
      "  File \"/opt/conda/lib/python3.6/site-packages/lightgbm/engine.py\", line 228, in train\n",
      "    booster = Booster(params=params, train_set=train_set)\n",
      "  File \"/opt/conda/lib/python3.6/site-packages/lightgbm/basic.py\", line 1666, in __init__\n",
      "    ctypes.byref(self.handle)))\n",
      "  File \"/opt/conda/lib/python3.6/site-packages/lightgbm/basic.py\", line 47, in _safe_call\n",
      "    raise LightGBMError(decode_string(_LIB.LGBM_GetLastError()))\n",
      "lightgbm.basic.LightGBMError: Cannot use bagging in GOSS\n"
     ]
    },
    {
     "name": "stdout",
     "output_type": "stream",
     "text": [
      "\n",
      "Training of type 1: 1.\n",
      "Fold 1 started at Wed Nov  6 11:20:17 2019\n",
      "[500]\ttraining's l1: 0.717655\tvalid_1's l1: 0.860267\n",
      "[1000]\ttraining's l1: 0.677087\tvalid_1's l1: 0.87073\n",
      "[1500]\ttraining's l1: 0.649377\tvalid_1's l1: 0.876524\n",
      "[2000]\ttraining's l1: 0.622954\tvalid_1's l1: 0.885007\n",
      "Fold 2 started at Wed Nov  6 11:21:02 2019\n",
      "[500]\ttraining's l1: 0.715153\tvalid_1's l1: 0.867364\n",
      "[1000]\ttraining's l1: 0.673509\tvalid_1's l1: 0.878129\n",
      "[1500]\ttraining's l1: 0.644118\tvalid_1's l1: 0.890154\n",
      "[2000]\ttraining's l1: 0.617753\tvalid_1's l1: 0.886611\n",
      "Fold 3 started at Wed Nov  6 11:21:48 2019\n",
      "[500]\ttraining's l1: 0.710034\tvalid_1's l1: 0.83768\n",
      "[1000]\ttraining's l1: 0.677045\tvalid_1's l1: 0.855062\n",
      "[1500]\ttraining's l1: 0.646072\tvalid_1's l1: 0.870875\n",
      "[2000]\ttraining's l1: 0.618744\tvalid_1's l1: 0.866704\n",
      "Fold 4 started at Wed Nov  6 11:22:35 2019\n",
      "[500]\ttraining's l1: 0.710185\tvalid_1's l1: 0.892419\n",
      "[1000]\ttraining's l1: 0.665623\tvalid_1's l1: 0.909373\n",
      "[1500]\ttraining's l1: 0.642703\tvalid_1's l1: 0.915863\n",
      "[2000]\ttraining's l1: 0.615474\tvalid_1's l1: 0.932171\n",
      "Fold 5 started at Wed Nov  6 11:23:21 2019\n",
      "[500]\ttraining's l1: 0.710304\tvalid_1's l1: 0.888289\n",
      "[1000]\ttraining's l1: 0.671959\tvalid_1's l1: 0.903027\n",
      "[1500]\ttraining's l1: 0.645598\tvalid_1's l1: 0.9202\n",
      "[2000]\ttraining's l1: 0.614357\tvalid_1's l1: 0.92844\n",
      "Fold 6 started at Wed Nov  6 11:24:06 2019\n",
      "[500]\ttraining's l1: 0.714734\tvalid_1's l1: 0.856273\n",
      "[1000]\ttraining's l1: 0.675901\tvalid_1's l1: 0.854926\n",
      "[1500]\ttraining's l1: 0.651331\tvalid_1's l1: 0.875308\n",
      "[2000]\ttraining's l1: 0.61949\tvalid_1's l1: 0.884934\n",
      "Fold 7 started at Wed Nov  6 11:24:53 2019\n",
      "[500]\ttraining's l1: 0.716023\tvalid_1's l1: 0.865805\n",
      "[1000]\ttraining's l1: 0.677252\tvalid_1's l1: 0.884229\n",
      "[1500]\ttraining's l1: 0.648103\tvalid_1's l1: 0.89867\n",
      "[2000]\ttraining's l1: 0.620181\tvalid_1's l1: 0.8954\n",
      "Fold 8 started at Wed Nov  6 11:25:38 2019\n",
      "[500]\ttraining's l1: 0.716501\tvalid_1's l1: 0.858405\n",
      "[1000]\ttraining's l1: 0.680094\tvalid_1's l1: 0.874219\n",
      "[1500]\ttraining's l1: 0.651353\tvalid_1's l1: 0.883319\n",
      "[2000]\ttraining's l1: 0.621852\tvalid_1's l1: 0.885851\n",
      "Fold 9 started at Wed Nov  6 11:26:24 2019\n",
      "[500]\ttraining's l1: 0.714482\tvalid_1's l1: 0.848503\n",
      "[1000]\ttraining's l1: 0.673216\tvalid_1's l1: 0.861566\n",
      "[1500]\ttraining's l1: 0.64626\tvalid_1's l1: 0.875548\n",
      "[2000]\ttraining's l1: 0.618418\tvalid_1's l1: 0.875505\n",
      "Fold 10 started at Wed Nov  6 11:27:11 2019\n",
      "[500]\ttraining's l1: 0.718137\tvalid_1's l1: 0.844513\n",
      "[1000]\ttraining's l1: 0.675235\tvalid_1's l1: 0.854509\n",
      "[1500]\ttraining's l1: 0.647545\tvalid_1's l1: 0.86049\n",
      "[2000]\ttraining's l1: 0.620586\tvalid_1's l1: 0.868039\n",
      "CV mean score: 0.8909, std: 0.0214.\n"
     ]
    },
    {
     "name": "stderr",
     "output_type": "stream",
     "text": [
      "[I 2019-11-06 11:27:57,202] Finished trial#8 resulted in value: -0.45319588310749526. Current best value is -0.4852817286359832 with parameters: {'max_depth': 9, 'feature_fraction': 0.9837729192965413, 'learning_rate': 0.19449756501328536, 'subsample': 0.8416208474888902, 'num_leaves': 19, 'verbosity': -1, 'min_data_in_leaf': 40, 'min_child_samples': 314, 'boosting': 'gbdt'}.\n"
     ]
    },
    {
     "name": "stdout",
     "output_type": "stream",
     "text": [
      "\n",
      "Training of type 1: 1.\n",
      "Fold 1 started at Wed Nov  6 11:27:57 2019\n",
      "[500]\ttraining's l1: 0.717978\tvalid_1's l1: 0.849189\n",
      "[1000]\ttraining's l1: 0.676856\tvalid_1's l1: 0.862685\n",
      "[1500]\ttraining's l1: 0.647171\tvalid_1's l1: 0.869987\n",
      "[2000]\ttraining's l1: 0.614555\tvalid_1's l1: 0.874646\n",
      "Fold 2 started at Wed Nov  6 11:28:50 2019\n",
      "[500]\ttraining's l1: 0.714718\tvalid_1's l1: 0.856816\n",
      "[1000]\ttraining's l1: 0.673819\tvalid_1's l1: 0.870436\n",
      "[1500]\ttraining's l1: 0.639647\tvalid_1's l1: 0.867707\n",
      "[2000]\ttraining's l1: 0.608803\tvalid_1's l1: 0.879414\n",
      "Fold 3 started at Wed Nov  6 11:29:43 2019\n",
      "[500]\ttraining's l1: 0.71701\tvalid_1's l1: 0.834297\n",
      "[1000]\ttraining's l1: 0.676637\tvalid_1's l1: 0.850708\n",
      "[1500]\ttraining's l1: 0.64509\tvalid_1's l1: 0.851101\n",
      "[2000]\ttraining's l1: 0.614662\tvalid_1's l1: 0.859358\n",
      "Fold 4 started at Wed Nov  6 11:30:37 2019\n",
      "[500]\ttraining's l1: 0.711763\tvalid_1's l1: 0.891941\n",
      "[1000]\ttraining's l1: 0.670953\tvalid_1's l1: 0.899501\n",
      "[1500]\ttraining's l1: 0.639468\tvalid_1's l1: 0.903897\n",
      "[2000]\ttraining's l1: 0.607356\tvalid_1's l1: 0.909145\n",
      "Fold 5 started at Wed Nov  6 11:31:30 2019\n",
      "[500]\ttraining's l1: 0.715235\tvalid_1's l1: 0.884424\n",
      "[1000]\ttraining's l1: 0.671139\tvalid_1's l1: 0.886864\n",
      "[1500]\ttraining's l1: 0.641087\tvalid_1's l1: 0.896625\n",
      "[2000]\ttraining's l1: 0.606861\tvalid_1's l1: 0.904413\n",
      "Fold 6 started at Wed Nov  6 11:32:24 2019\n",
      "[500]\ttraining's l1: 0.72032\tvalid_1's l1: 0.843055\n",
      "[1000]\ttraining's l1: 0.678429\tvalid_1's l1: 0.847814\n",
      "[1500]\ttraining's l1: 0.644191\tvalid_1's l1: 0.84843\n",
      "[2000]\ttraining's l1: 0.611711\tvalid_1's l1: 0.855563\n",
      "Fold 7 started at Wed Nov  6 11:33:17 2019\n",
      "[500]\ttraining's l1: 0.717034\tvalid_1's l1: 0.856668\n",
      "[1000]\ttraining's l1: 0.677596\tvalid_1's l1: 0.856322\n",
      "[1500]\ttraining's l1: 0.646881\tvalid_1's l1: 0.86448\n",
      "[2000]\ttraining's l1: 0.613585\tvalid_1's l1: 0.876653\n",
      "Fold 8 started at Wed Nov  6 11:34:10 2019\n",
      "[500]\ttraining's l1: 0.720083\tvalid_1's l1: 0.850296\n",
      "[1000]\ttraining's l1: 0.676454\tvalid_1's l1: 0.849146\n",
      "[1500]\ttraining's l1: 0.643742\tvalid_1's l1: 0.859514\n",
      "[2000]\ttraining's l1: 0.613499\tvalid_1's l1: 0.871602\n",
      "Fold 9 started at Wed Nov  6 11:35:03 2019\n",
      "[500]\ttraining's l1: 0.717032\tvalid_1's l1: 0.840174\n",
      "[1000]\ttraining's l1: 0.674979\tvalid_1's l1: 0.851078\n",
      "[1500]\ttraining's l1: 0.644096\tvalid_1's l1: 0.860118\n",
      "[2000]\ttraining's l1: 0.613941\tvalid_1's l1: 0.863744\n",
      "Fold 10 started at Wed Nov  6 11:35:57 2019\n",
      "[500]\ttraining's l1: 0.721483\tvalid_1's l1: 0.83371\n",
      "[1000]\ttraining's l1: 0.677669\tvalid_1's l1: 0.841643\n",
      "[1500]\ttraining's l1: 0.645401\tvalid_1's l1: 0.84257\n",
      "[2000]\ttraining's l1: 0.614756\tvalid_1's l1: 0.851994\n",
      "CV mean score: 0.8747, std: 0.0183.\n"
     ]
    },
    {
     "name": "stderr",
     "output_type": "stream",
     "text": [
      "[I 2019-11-06 11:36:50,476] Finished trial#9 resulted in value: -0.461573153098753. Current best value is -0.4852817286359832 with parameters: {'max_depth': 9, 'feature_fraction': 0.9837729192965413, 'learning_rate': 0.19449756501328536, 'subsample': 0.8416208474888902, 'num_leaves': 19, 'verbosity': -1, 'min_data_in_leaf': 40, 'min_child_samples': 314, 'boosting': 'gbdt'}.\n"
     ]
    },
    {
     "name": "stdout",
     "output_type": "stream",
     "text": [
      "params_{'max_depth': 9, 'feature_fraction': 0.9837729192965413, 'learning_rate': 0.19449756501328536, 'subsample': 0.8416208474888902, 'num_leaves': 19, 'verbosity': -1, 'min_data_in_leaf': 40, 'min_child_samples': 314, 'boosting': 'gbdt'}\n",
      "value_-0.4852817286359832\n"
     ]
    },
    {
     "data": {
      "image/png": "[encoded data removed]",
      "text/plain": [
       "<Figure size 1152x864 with 1 Axes>"
      ]
     },
     "metadata": {
      "needs_background": "light"
     },
     "output_type": "display_data"
    },
    {
     "data": {
      "image/png": "[encoded data removed]",
      "text/plain": [
       "<Figure size 1152x864 with 1 Axes>"
      ]
     },
     "metadata": {
      "needs_background": "light"
     },
     "output_type": "display_data"
    },
    {
     "data": {
      "image/png": "[encoded data removed]",
      "text/plain": [
       "<Figure size 1152x864 with 1 Axes>"
      ]
     },
     "metadata": {
      "needs_background": "light"
     },
     "output_type": "display_data"
    },
    {
     "data": {
      "image/png": "[encoded data removed]",
      "text/plain": [
       "<Figure size 1152x864 with 1 Axes>"
      ]
     },
     "metadata": {
      "needs_background": "light"
     },
     "output_type": "display_data"
    },
    {
     "data": {
      "image/png": "[encoded data removed]",
      "text/plain": [
       "<Figure size 1152x864 with 1 Axes>"
      ]
     },
     "metadata": {
      "needs_background": "light"
     },
     "output_type": "display_data"
    },
    {
     "data": {
      "image/png": "[encoded data removed]",
      "text/plain": [
       "<Figure size 1152x864 with 1 Axes>"
      ]
     },
     "metadata": {
      "needs_background": "light"
     },
     "output_type": "display_data"
    },
    {
     "data": {
      "image/png": "[encoded data removed]",
      "text/plain": [
       "<Figure size 1152x864 with 1 Axes>"
      ]
     },
     "metadata": {
      "needs_background": "light"
     },
     "output_type": "display_data"
    },
    {
     "data": {
      "image/png": "[encoded data removed]",
      "text/plain": [
       "<Figure size 1152x864 with 1 Axes>"
      ]
     },
     "metadata": {
      "needs_background": "light"
     },
     "output_type": "display_data"
    }
   ],
   "source": [
    "if __name__ == \"__main__\":\n",
    "    study = optuna.create_study()\n",
    "    study.optimize(objective, n_trials=10)\n",
    "    print(\"params_{}\".format(study.best_params))\n",
    "    print(\"value_{}\".format(study.best_value))"
   ]
  },
  {
   "cell_type": "markdown",
   "metadata": {},
   "source": [
    "# Set optimized hyper parameters and Run"
   ]
  },
  {
   "cell_type": "code",
   "execution_count": null,
   "metadata": {},
   "outputs": [],
   "source": [
    "#Set hyper parameters\n",
    "params = {'num_leaves': 19,\n",
    "          'min_child_samples': 314,\n",
    "          'objective': 'regression',  #I will check it.\n",
    "          'max_depth': 9,\n",
    "          'learning_rate': 0.1945,\n",
    "          \"boosting_type\": \"gbdt\",\n",
    "          \"max_bin\":64, \n",
    "          \"min_data_in_leaf\":40,\n",
    "          \"subsample_freq\": 1,\n",
    "          \"subsample\": 0.842,\n",
    "          \"bagging_seed\": 11,\n",
    "          \"metric\": 'mae',\n",
    "          \"verbosity\": -1,\n",
    "          #'reg_alpha': 0.8,\n",
    "          #'reg_lambda': 0.2,\n",
    "          #'colsample_bytree': 0.6\n",
    "          'lambda_l1': 0.8,\n",
    "          'lambda_l2': 0.2,\n",
    "          'feature_fraction': 0.9838,\n",
    "         }"
   ]
  },
  {
   "cell_type": "code",
   "execution_count": null,
   "metadata": {},
   "outputs": [],
   "source": [
    "#Run\n",
    "CV_score = 0\n",
    "\n",
    "for t in new_train['type'].unique():\n",
    "    type_ = t\n",
    "    print(f'\\nTraining of type {t}: {type_}.')\n",
    "    index_type = (new_train['type'] == t)\n",
    "    index_type_test = (new_test['type'] == t)\n",
    "    \n",
    "    X_t = x_train.loc[index_type].copy()\n",
    "    X_test_t = x_test.loc[index_type_test].copy()\n",
    "    y_t = y_train[index_type]\n",
    "\n",
    "    \n",
    "    result_dict_lgb = train_model_regression(X=X_t, X_test=X_test_t, \n",
    "                                              y=y_t, params=params, \n",
    "                                              folds=folds, \n",
    "                                              model_type='lgb', \n",
    "                                              eval_metric='mae', \n",
    "                                              plot_feature_importance=True,\n",
    "                                              verbose=500, early_stopping_rounds=200, \n",
    "                                              n_estimators=n_estimators[t-1])\n",
    "    del X_t, X_test_t\n",
    "    gc.collect()\n",
    "    \n",
    "    X_short.loc[X_short['type'] == t, 'oof'] = result_dict_lgb['oof']\n",
    "    X_short_test.loc[X_short_test['type'] == t, 'prediction'] = result_dict_lgb['prediction']\n",
    "    \n",
    "    ## manually computing the cv score\n",
    "    CV_score += np.log(np.array(result_dict_lgb['scores']).mean())/8 # total 8 types"
   ]
  },
  {
   "cell_type": "code",
   "execution_count": null,
   "metadata": {},
   "outputs": [],
   "source": [
    "result = pd.DataFrame({\"y_train\":new_train[\"accuracy_group\"],\n",
    "                      \"y_pred\":result_dict_lgb['oof']})"
   ]
  },
  {
   "cell_type": "code",
   "execution_count": null,
   "metadata": {},
   "outputs": [],
   "source": [
    "result.head()"
   ]
  },
  {
   "cell_type": "code",
   "execution_count": null,
   "metadata": {},
   "outputs": [],
   "source": [
    "result[\"y_pred\"]= np.round(result.y_pred).astype('int')\n",
    "result.head()"
   ]
  },
  {
   "cell_type": "code",
   "execution_count": null,
   "metadata": {},
   "outputs": [],
   "source": [
    "from sklearn.metrics import confusion_matrix, cohen_kappa_score\n",
    "kappa = cohen_kappa_score(result.y_train, result.y_pred, weights='quadratic')\n",
    "print(kappa)"
   ]
  },
  {
   "cell_type": "markdown",
   "metadata": {},
   "source": [
    "## Make submission"
   ]
  },
  {
   "cell_type": "code",
   "execution_count": null,
   "metadata": {},
   "outputs": [],
   "source": [
    "submission['accuracy_group'] = np.round(result_dict_lgb['prediction']).astype('int')\n",
    "submission.to_csv('submission.csv', index=None)\n",
    "submission.head()"
   ]
  },
  {
   "cell_type": "code",
   "execution_count": null,
   "metadata": {},
   "outputs": [],
   "source": [
    "submission['accuracy_group'].plot(kind='hist')"
   ]
  },
  {
   "cell_type": "code",
   "execution_count": null,
   "metadata": {},
   "outputs": [],
   "source": [
    "train_labels['accuracy_group'].plot(kind='hist')"
   ]
  }
 ],
 "metadata": {
  "kernelspec": {
   "display_name": "Python 3",
   "language": "python",
   "name": "python3"
  },
  "language_info": {
   "codemirror_mode": {
    "name": "ipython",
    "version": 3
   },
   "file_extension": ".py",
   "mimetype": "text/x-python",
   "name": "python",
   "nbconvert_exporter": "python",
   "pygments_lexer": "ipython3",
   "version": "3.6.8"
  }
 },
 "nbformat": 4,
 "nbformat_minor": 1
}
