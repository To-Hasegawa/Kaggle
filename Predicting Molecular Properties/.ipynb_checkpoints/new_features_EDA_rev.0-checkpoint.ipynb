{
 "cells": [
  {
   "cell_type": "code",
   "execution_count": 1,
   "metadata": {
    "_cell_guid": "b1076dfc-b9ad-4769-8c92-a6c4dae69d19",
    "_uuid": "8f2839f25d086af736a60e9eeb907d3b93b6e0e5",
    "scrolled": true
   },
   "outputs": [
    {
     "ename": "FileNotFoundError",
     "evalue": "[Errno 2] No such file or directory: '../input'",
     "output_type": "error",
     "traceback": [
      "\u001b[0;31m---------------------------------------------------------------------------\u001b[0m",
      "\u001b[0;31mFileNotFoundError\u001b[0m                         Traceback (most recent call last)",
      "\u001b[0;32m<ipython-input-1-083556d0802f>\u001b[0m in \u001b[0;36m<module>\u001b[0;34m\u001b[0m\n\u001b[1;32m      4\u001b[0m \u001b[0;34m\u001b[0m\u001b[0m\n\u001b[1;32m      5\u001b[0m \u001b[0;32mimport\u001b[0m \u001b[0mos\u001b[0m\u001b[0;34m\u001b[0m\u001b[0;34m\u001b[0m\u001b[0m\n\u001b[0;32m----> 6\u001b[0;31m \u001b[0mprint\u001b[0m\u001b[0;34m(\u001b[0m\u001b[0mos\u001b[0m\u001b[0;34m.\u001b[0m\u001b[0mlistdir\u001b[0m\u001b[0;34m(\u001b[0m\u001b[0;34m\"../input\"\u001b[0m\u001b[0;34m)\u001b[0m\u001b[0;34m)\u001b[0m\u001b[0;34m\u001b[0m\u001b[0;34m\u001b[0m\u001b[0m\n\u001b[0m",
      "\u001b[0;31mFileNotFoundError\u001b[0m: [Errno 2] No such file or directory: '../input'"
     ]
    }
   ],
   "source": [
    "import numpy as np # linear algebra\n",
    "import pandas as pd # data processing, CSV file I/O (e.g. pd.read_csv)\n",
    "import matplotlib.pyplot as plt\n",
    "\n",
    "#import os\n",
    "#print(os.listdir(\"../input\"))"
   ]
  },
  {
   "cell_type": "code",
   "execution_count": null,
   "metadata": {
    "_cell_guid": "79c7e3d0-c299-4dcb-8224-4455121ee9b0",
    "_uuid": "d629ff2d2480ee46fbb7e2d37f6b5fab8052498a"
   },
   "outputs": [],
   "source": [
    "#Load sub data\n",
    "mol_dataset= pd.read_csv(\"mol_dataset.csv\")\n",
    "#mol_dataset= pd.read_csv(\"../input/prepare-dataset-rdkit-rev-2/mol_dataset.csv\")\n",
    "mol_dataset.head(5)"
   ]
  },
  {
   "cell_type": "code",
   "execution_count": null,
   "metadata": {},
   "outputs": [],
   "source": [
    "def reduce_mem_usage(df, verbose=True):\n",
    "    numerics = ['int16', 'int32', 'int64', 'float16', 'float32', 'float64']\n",
    "    start_mem = df.memory_usage().sum() / 1024**2\n",
    "    for col in df.columns:\n",
    "        col_type = df[col].dtypes\n",
    "        if col_type in numerics:\n",
    "            c_min = df[col].min()\n",
    "            c_max = df[col].max()\n",
    "            if str(col_type)[:3] == 'int':\n",
    "                if c_min > np.iinfo(np.int8).min and c_max < np.iinfo(np.int8).max:\n",
    "                    df[col] = df[col].astype(np.int8)\n",
    "                elif c_min > np.iinfo(np.int16).min and c_max < np.iinfo(np.int16).max:\n",
    "                    df[col] = df[col].astype(np.int16)\n",
    "                elif c_min > np.iinfo(np.int32).min and c_max < np.iinfo(np.int32).max:\n",
    "                    df[col] = df[col].astype(np.int32)\n",
    "                elif c_min > np.iinfo(np.int64).min and c_max < np.iinfo(np.int64).max:\n",
    "                    df[col] = df[col].astype(np.int64)\n",
    "            else:\n",
    "                if c_min > np.finfo(np.float16).min and c_max < np.finfo(np.float16).max:\n",
    "                    df[col] = df[col].astype(np.float16)\n",
    "                elif c_min > np.finfo(np.float32).min and c_max < np.finfo(np.float32).max:\n",
    "                    df[col] = df[col].astype(np.float32)\n",
    "                else:\n",
    "                    df[col] = df[col].astype(np.float64)\n",
    "\n",
    "    end_mem = df.memory_usage().sum() / 1024**2\n",
    "    if verbose:\n",
    "        print('Mem. usage decreased to {:5.2f} Mb ({:.1f}% reduction)'.format(end_mem, 100 * (start_mem - end_mem) / start_mem))\n",
    "    return df\n",
    "\n",
    "#reduce data size\n",
    "mol_dataset = reduce_mem_usage(mol_dataset)"
   ]
  },
  {
   "cell_type": "code",
   "execution_count": null,
   "metadata": {},
   "outputs": [],
   "source": [
    "#cut string data\n",
    "mol_all = mol_dataset.iloc[:,3:370]\n",
    "mol_all.head(5)\n",
    "\n",
    "#mol_fingerprint = mol_dataset.iloc[:,3:170]\n",
    "#mol_fingerptint.shape\n",
    "\n",
    "#mol_descriptor = mol_dataset.iloc[:,171:370]\n",
    "#mol_descriptor.shape"
   ]
  },
  {
   "cell_type": "markdown",
   "metadata": {},
   "source": [
    "#EDA"
   ]
  },
  {
   "cell_type": "code",
   "execution_count": null,
   "metadata": {},
   "outputs": [],
   "source": [
    "mol_all.describe()"
   ]
  },
  {
   "cell_type": "markdown",
   "metadata": {},
   "source": [
    "There are a lot of 0 or 1 data, and no variance columns.  \n",
    "In addition, low std columns means that there are high bias of data. If this bias is too high, sometime set up bad effect when do CV. If we do 5-fold CV, we sould remove the columns which contain over 80% same data such as 0, 1.\n",
    "\n",
    "reference:  \n",
    "https://datachemeng.com/deletedescriptors/  \n",
    "https://datachemeng.com/wp-content/uploads/2017/09/basicdatapreprocessing.pdf"
   ]
  },
  {
   "cell_type": "markdown",
   "metadata": {},
   "source": [
    "![](http://)"
   ]
  },
  {
   "cell_type": "code",
   "execution_count": null,
   "metadata": {},
   "outputs": [],
   "source": [
    "#omit too low std  columns\n",
    "mol_high_std=mol_all.loc[:, abs(mol_all.describe().loc['std']) > 0.0001]\n",
    "mol_high_std.describe()"
   ]
  },
  {
   "cell_type": "markdown",
   "metadata": {},
   "source": [
    "156 columns were omitted."
   ]
  },
  {
   "cell_type": "code",
   "execution_count": null,
   "metadata": {},
   "outputs": [],
   "source": [
    "import pandas_profiling as pdp"
   ]
  },
  {
   "cell_type": "code",
   "execution_count": null,
   "metadata": {},
   "outputs": [],
   "source": [
    "pdp.ProfileReport(mol_high_std)"
   ]
  },
  {
   "cell_type": "markdown",
   "metadata": {},
   "source": [
    "There are a lot of information for analysis.  \n",
    "The important information are following:    \n",
    "1. 11528 rows duplicate.  \n",
    "2. high correlation peers(column name) are following (need blocking):  \n",
    "    - 71-102  \n",
    "    - 42-107-134  \n",
    "    - 66-112  \n",
    "    - 110-117  \n",
    "    - 78-119\n",
    "    - 85-122-148\n",
    "    - 94-124\n",
    "    - 70-130\n",
    "    - 127-143\n",
    "    - 65-162-NumAromaticHeterocycles-NumAromaticRings\n",
    "    - 50-76\n",
    "    - NOCount-NumHAcceptors (r=0.91896)-NumHeteroatoms(r=0.90326)\n",
    "    - NHOHCount-NumHDonors\n",
    "    - NumAliphaticCarbocycles-NumSaturatedCarbocycles-NumSaturatedHeterocycles\n",
    "    - NumAliphaticRings-NumSaturatedRings-RingCount(r=0.90363)\n",
    "    - fr_Al_COO-fr_COO-fr_COO2\n",
    "    - fr_C_O-fr_C_O_noCOO\n",
    "    - 84-fr_NH2\n",
    "    - fr_Ar_NH-fr_Nhpyrrole\n",
    "    - fr_benzene-NumAromaticCarbocycles\n",
    "    - 41-fr_nitrile\n",
    "    - 56-fr_nitro\n",
    "    - fr_nitro_arom-fr_nitro_arom_nonortho\n",
    "    - 24-fr_oxime\n",
    "    - fr_phenol-fr_phenol_noOrthoHbond\n",
    "    \n",
    "3. too high bias columns are following(0/1 ratio over 50):\n",
    "    - 166 :only one row is 1, the others are 0.\n",
    "    - 15 :only 15 rows are 1, the others are 0.\n",
    "    - 125 :only 879 rows are 1, the others are 0.\n",
    "    - 21 :only 62 rows are 1, the others are 0.\n",
    "    - 23 :only 1969 rows are 1, the others are 0.\n",
    "    - 24 :only 1992 rows are 1, the others are 0.\n",
    "    - 25 :only  1367 rows are 1, the others are 0.\n",
    "    - 26 :only 1646 rows are 1, the others are 0.\n",
    "    - 28 :only 1329 rows are 1, the others are 0.\n",
    "    - 42 :only 1907 rows are 1, the others are 0.\n",
    "    - 45 :only 1723 rows are 1, the others are 0.\n",
    "    - 49 :only 480 rows are 1, the others are 0.\n",
    "    - 56 :only 137 rows are 1, the others are 0.\n",
    "    - 63 :only 164 rows are 1, the others are 0.\n",
    "    - 87 :only 1468 rows are 1, the others are 0.\n",
    "    - NumAromaticCarbocycles :only 304 rows are 1, the others are 0.\n",
    "    - fr_Al_OH :only 190 rows are 1, the others are 0.\n",
    "    - fr_Ar_COO :only one row is 1, the others are 0.\n",
    "    - fr_HOCCN : 99.4% of data are zero.\n",
    "    - fr_alkyl_carbamate :only 495 rows are 1, the others are 0.\n",
    "    - fr_alkyl_halide :99.7% of data are zero.\n",
    "    - fr_azo :near 100% of data are zero.\n",
    "    - fr_diazo :near 100% of data are zero.\n",
    "    - fr_dihydropyridine :only one row is 1, the others are 0.\n",
    "    - fr_furan :98.9% of data are zero.\n",
    "    - fr_guanido :99.8% of data are zero.\n",
    "    - fr_hdrzone :only 7 rows are 1, the others are 0.\n",
    "    - fr_imidazole :98.2% of data are zero.\n",
    "    - fr_imide :99.5% of data are zero.\n",
    "    - fr_lactam :only 1821 rows are 1, the others are 0.\n",
    "    - fr_morpholine :98.0% of data are zero.\n",
    "    - fr_nitro_arom :only one row is 1, the others are 0.\n",
    "    - fr_nitroso :only 34 rows are 1, the others are 0.\n",
    "    - fr_oxazole :98.7% of data are zero.\n",
    "    - fr_para_hydroxylation :99.9% of data are zero.\n",
    "    - fr_phenol :99.9% of data are zero.\n",
    "    - fr_piperzine :99.4% of data are zero.\n",
    "    - fr_pyridine :only 1054 rows are 1, the others are 0.\n",
    "    - fr_quatN :only 207 rows are 1, the others are 0.\n",
    "    - fr_tetrazole :99.8% of data are zero.\n",
    "    - fr_unbrch_alkane :98.5% of data are zero.\n",
    "    - fr_urea :99.1% of data are zero.\n",
    "\n",
    "we need to consider how to deal them.....  "
   ]
  },
  {
   "cell_type": "markdown",
   "metadata": {},
   "source": [
    "In this time, I pro-process as follows:\n",
    "\n",
    "- Action for list 1. data : Stay\n",
    "- Action for list 2. variables : When blocking , left side variable stay and the others omit (Actually speaking I need to do more carefully to bloking but this time do rough)\n",
    "- Acition for list 3. variables : All of them omit"
   ]
  },
  {
   "cell_type": "code",
   "execution_count": null,
   "metadata": {},
   "outputs": [],
   "source": [
    "#blocking\n",
    "drop_mol =mol_high_std.drop([\"102\", \"107\",\"134\",\"112\", \"117\",\"119\",\"122\", \"148\",\"124\",\"130\", \"143\",\"162\", \"76\",\n",
    "                 \"NumAromaticHeterocycles\",\"NumAromaticRings\",\"NumHAcceptors\",\"NumHeteroatoms\", \"NumHDonors\",\n",
    "                 \"NumSaturatedCarbocycles\",\"NumSaturatedHeterocycles\", \"NumSaturatedRings\",\"RingCount\",\"fr_COO\", \n",
    "                 \"fr_COO2\",\"fr_C_O_noCOO\",\"fr_NH2\", \"fr_Nhpyrrole\",\"NumAromaticCarbocycles\",\"fr_nitrile\", \n",
    "                 \"fr_nitro\",\"fr_nitro_arom_nonortho\",\"fr_oxime\", \"fr_phenol_noOrthoHbond\"] , axis=1)"
   ]
  },
  {
   "cell_type": "code",
   "execution_count": null,
   "metadata": {},
   "outputs": [],
   "source": [
    "#omit high bias varibles\n",
    "drop_mol=drop_mol.drop([\"166\",\"15\",\"125\",\"21\",\"23\",\"24\",\"25\",\"26\",\"28\",\"42\",\"45\",\"49\",\"56\",\"63\",\"87\",\n",
    "                        \"fr_Al_OH\",\"fr_Ar_COO\",\"fr_HOCCN\",\"fr_alkyl_carbamate\",\"fr_alkyl_halide\",\n",
    "                        \"fr_azo\",\"fr_diazo\",\"fr_dihydropyridine\",\"fr_furan\",\"fr_guanido\",\"fr_hdrzone\",\"fr_imidazole\",\n",
    "                        \"fr_imide\",\"fr_lactam\",\"fr_morpholine\",\"fr_nitro_arom\",\"fr_nitroso\",\"fr_oxazole\",\"fr_para_hydroxylation\",\n",
    "                        \"fr_phenol\",\"fr_piperzine\",\"fr_pyridine\",\"fr_quatN\",\"fr_tetrazole\",\"fr_unbrch_alkane\",\"fr_urea\"], \n",
    "                       axis=1)"
   ]
  },
  {
   "cell_type": "code",
   "execution_count": null,
   "metadata": {},
   "outputs": [],
   "source": [
    "drop_mol.head()"
   ]
  },
  {
   "cell_type": "code",
   "execution_count": null,
   "metadata": {},
   "outputs": [],
   "source": [
    "drop_mol.shape"
   ]
  },
  {
   "cell_type": "markdown",
   "metadata": {},
   "source": [
    "OK, now 367 comlums become only 144 columns after rough pre-processing."
   ]
  },
  {
   "cell_type": "markdown",
   "metadata": {},
   "source": [
    "#Kernel PCA"
   ]
  },
  {
   "cell_type": "markdown",
   "metadata": {},
   "source": [
    "Reference:  \n",
    "https://blog.shikoan.com/kernel-pca-explained-variance-ratio/"
   ]
  },
  {
   "cell_type": "code",
   "execution_count": null,
   "metadata": {},
   "outputs": [],
   "source": [
    "#from sklearn.decomposition import KernelPCA\n",
    "#from sklearn.model_selection import train_test_split\n",
    "#from sklearn.decomposition import PCA"
   ]
  },
  {
   "cell_type": "code",
   "execution_count": null,
   "metadata": {},
   "outputs": [],
   "source": [
    "#reduce memory load\n",
    "#devide and random sumpling\n",
    "#drop_mol_half1,drop_mol_half2  = train_test_split(drop_mol, test_size=0.8)\n",
    "#drop_mol_half1.head()"
   ]
  },
  {
   "cell_type": "code",
   "execution_count": null,
   "metadata": {},
   "outputs": [],
   "source": [
    "#kpca = KernelPCA(n_components=2,kernel='rbf',gamma=0.1)\n",
    "#res = kpca.fit_transform(drop_mol_half1)\n",
    "\n",
    "#print(res.shape)\n",
    "\n",
    "#pc = res.T\n",
    "\n",
    "#print(\"Explained var ratio :\", np.sum(np.var(res, axis=0) / np.sum(np.var(drop_mol_half1, axis=0)))) #maybe not proper explanation\n",
    "#print(\"Explained var score :\", explained_variance_score(drop_mol_half1, kpca.inverse_transform(res)))\n",
    "\n",
    "#plt.figure()\n",
    "#plt.scatter(pc[0], pc[1], marker=\".\")\n",
    "#plt.xlabel(\"PC1\")\n",
    "#plt.ylabel(\"PC2\")\n",
    "#plt.legend()\n",
    "#plt.savefig(\"pca_plot.png\")"
   ]
  },
  {
   "cell_type": "code",
   "execution_count": null,
   "metadata": {},
   "outputs": [],
   "source": []
  }
 ],
 "metadata": {
  "kernelspec": {
   "display_name": "Python 3",
   "language": "python",
   "name": "python3"
  },
  "language_info": {
   "codemirror_mode": {
    "name": "ipython",
    "version": 3
   },
   "file_extension": ".py",
   "mimetype": "text/x-python",
   "name": "python",
   "nbconvert_exporter": "python",
   "pygments_lexer": "ipython3",
   "version": "3.6.8"
  }
 },
 "nbformat": 4,
 "nbformat_minor": 1
}
