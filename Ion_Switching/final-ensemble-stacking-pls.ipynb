{
 "cells": [
  {
   "cell_type": "markdown",
   "metadata": {},
   "source": [
    "# Stacking!"
   ]
  },
  {
   "cell_type": "code",
   "execution_count": null,
   "metadata": {
    "_cell_guid": "b1076dfc-b9ad-4769-8c92-a6c4dae69d19",
    "_uuid": "8f2839f25d086af736a60e9eeb907d3b93b6e0e5"
   },
   "outputs": [],
   "source": [
    "# This Python 3 environment comes with many helpful analytics libraries installed\n",
    "# It is defined by the kaggle/python docker image: https://github.com/kaggle/docker-python\n",
    "# For example, here's several helpful packages to load in \n",
    "\n",
    "import numpy as np # linear algebra\n",
    "import pandas as pd # data processing, CSV file I/O (e.g. pd.read_csv)\n",
    "\n",
    "# Input data files are available in the \"../input/\" directory.\n",
    "# For example, running this (by clicking run or pressing Shift+Enter) will list all files under the input directory\n",
    "\n",
    "import os\n",
    "for dirname, _, filenames in os.walk('/kaggle/input'):\n",
    "    for filename in filenames:\n",
    "        print(os.path.join(dirname, filename))\n",
    "\n",
    "# Any results you write to the current directory are saved as output."
   ]
  },
  {
   "cell_type": "markdown",
   "metadata": {},
   "source": [
    "## Load predictions"
   ]
  },
  {
   "cell_type": "code",
   "execution_count": 2,
   "metadata": {},
   "outputs": [],
   "source": [
    "DATA_PATH = \"../input/ion-switching-train-pred-for-stacking/\"\n",
    "DATA_PATH2 =\"../input/simple-eda-model/\"\n",
    "#df_1= pd.read_csv(os.path.join(DATA_PATH, \"furth_cat_train_pred_CV0.943.csv\"))\n",
    "df_2= pd.read_csv(os.path.join(DATA_PATH, \"lgb_originalsignal_y_pred_rev1_CV0.935_LB0.935.csv\"))#11\n",
    "#df_3= pd.read_csv(os.path.join(DATA_PATH2, \"original_ensemble_y_pred.csv\")) #12\n",
    "df_4= pd.read_csv(os.path.join(DATA_PATH, \"LightGBM_add_filter_rev8_CV0.939.csv\"))\n",
    "#df_5= pd.read_csv(os.path.join(DATA_PATH, \"wavenet_keras_rev3_y_pred_CV0.939_LB0.943.csv\"))\n",
    "df_6= pd.read_csv(os.path.join(DATA_PATH, \"wavenet_originaltrain_rev6_y_pred.csv\"))\n",
    "#df_7= pd.read_csv(os.path.join(DATA_PATH, \"wavenet_keras_rev4_y_pred_CV0.938.csv\"))\n",
    "df_8= pd.read_csv(os.path.join(DATA_PATH, \"lgb_clean_outlier_y_pred_rev12_CV0.942.csv\"))\n",
    "#df_9= pd.read_csv(os.path.join(DATA_PATH, \"wavenet_rev2_y_pred_CV0.948_LB0.943.csv\"))\n",
    "#df_10= pd.read_csv(os.path.join(DATA_PATH, \"wavenet_rev4_y_pred_CV0.9455_LB0.944.csv\"))"
   ]
  },
  {
   "cell_type": "code",
   "execution_count": 3,
   "metadata": {},
   "outputs": [],
   "source": [
    "train_y = df_2[\"open_channels\"]"
   ]
  },
  {
   "cell_type": "code",
   "execution_count": 4,
   "metadata": {
    "_cell_guid": "79c7e3d0-c299-4dcb-8224-4455121ee9b0",
    "_uuid": "d629ff2d2480ee46fbb7e2d37f6b5fab8052498a"
   },
   "outputs": [],
   "source": [
    "DATA_PATH = \"../input/first-nn-model-cv-093/\"\n",
    "#df_1_test= pd.read_csv(os.path.join(DATA_PATH, \"submission_cat_furth_CV0.943.csv\"))\n",
    "df_2_test= pd.read_csv(os.path.join(DATA_PATH, \"submission_original_lgb_CV0.935.csv\"))\n",
    "#df_3_test= pd.read_csv(os.path.join(DATA_PATH2, \"submission_original_ensemble.csv\"))\n",
    "df_4_test= pd.read_csv(os.path.join(DATA_PATH, \"submission_add_filter_rev8_CV0.939.csv\"))\n",
    "#df_5_test= pd.read_csv(os.path.join(DATA_PATH, \"submission_wavenet_keras_rev3CV0.939_LB0.943.csv\"))\n",
    "df_6_test= pd.read_csv(os.path.join(DATA_PATH, \"submission_wavenet_rev6_CV0.9441.csv\"))\n",
    "#df_7_test= pd.read_csv(os.path.join(DATA_PATH, \"submission_wavenet_keras_rev4_CV0.938.csv\"))\n",
    "df_8_test= pd.read_csv(os.path.join(DATA_PATH, \"submission_clean_outlier_rev12_CV0.942.csv\"))\n",
    "#df_9_test= pd.read_csv(os.path.join(DATA_PATH, \"submission_wavenet_rev2_CV0.948_LB0.943.csv\"))\n",
    "#df_10_test= pd.read_csv(os.path.join(DATA_PATH, \"submission_wavenet_rev4_CV0.9455.csv\"))"
   ]
  },
  {
   "cell_type": "code",
   "execution_count": 5,
   "metadata": {},
   "outputs": [],
   "source": [
    "#train_pred_1=df_1[\"y_pred\"]\n",
    "train_pred_2=df_2[\"y_pred\"]\n",
    "#train_pred_3=df_3[\"y_pred\"]\n",
    "train_pred_4=df_4[\"y_pred\"]\n",
    "#train_pred_5=df_5[\"y_pred\"]\n",
    "train_pred_6=df_6[\"y_pred\"]\n",
    "#train_pred_7=df_7[\"y_pred\"]\n",
    "train_pred_8=df_8[\"y_pred\"]\n",
    "#train_pred_9=df_9[\"y_pred\"]\n",
    "#train_pred_10=df_10[\"y_pred\"]"
   ]
  },
  {
   "cell_type": "code",
   "execution_count": 6,
   "metadata": {},
   "outputs": [],
   "source": [
    "#test_pred_1=df_1_test[\"open_channels\"]\n",
    "test_pred_2=df_2_test[\"open_channels\"]\n",
    "#test_pred_3=df_3_test[\"open_channels\"]\n",
    "test_pred_4=df_4_test[\"open_channels\"]\n",
    "#test_pred_5=df_5_test[\"open_channels\"]\n",
    "test_pred_6=df_6_test[\"open_channels\"]\n",
    "#test_pred_7=df_7_test[\"open_channels\"]\n",
    "test_pred_8=df_8_test[\"open_channels\"]\n",
    "#test_pred_9=df_9_test[\"open_channels\"]\n",
    "#test_pred_10=df_10_test[\"open_channels\"]"
   ]
  },
  {
   "cell_type": "markdown",
   "metadata": {},
   "source": [
    "# Validate prediction"
   ]
  },
  {
   "cell_type": "code",
   "execution_count": 9,
   "metadata": {},
   "outputs": [
    {
     "name": "stdout",
     "output_type": "stream",
     "text": [
      "              precision    recall  f1-score   support\n",
      "\n",
      "           0     0.9978    0.9967    0.9973   1240152\n",
      "           1     0.9914    0.9904    0.9909    985865\n",
      "           2     0.9693    0.9761    0.9727    553924\n",
      "           3     0.9783    0.9753    0.9768    668609\n",
      "           4     0.9681    0.9689    0.9685    403410\n",
      "           5     0.9488    0.9433    0.9460    277877\n",
      "           6     0.8842    0.8852    0.8847    188112\n",
      "           7     0.8880    0.8943    0.8911    265015\n",
      "           8     0.8914    0.8980    0.8947    245183\n",
      "           9     0.8959    0.8940    0.8950    136120\n",
      "          10     0.9185    0.8724    0.8949     35733\n",
      "\n",
      "    accuracy                         0.9670   5000000\n",
      "   macro avg     0.9392    0.9359    0.9375   5000000\n",
      "weighted avg     0.9670    0.9670    0.9670   5000000\n",
      "\n"
     ]
    }
   ],
   "source": [
    "#dataset 2\n",
    "from sklearn.metrics import classification_report\n",
    "target_names = ['0','1','2','3','4','5','6','7','8','9','10']\n",
    "report = classification_report(df_2[\"open_channels\"], df_2[\"y_pred\"],target_names=target_names, digits= 4)\n",
    "print(report)"
   ]
  },
  {
   "cell_type": "code",
   "execution_count": 10,
   "metadata": {},
   "outputs": [
    {
     "name": "stdout",
     "output_type": "stream",
     "text": [
      "f1_batch_5 0.7992190407976062\n",
      "f1_batch_10 0.8674784619735971\n",
      "Bench mark score:0.84\n",
      "f1_batch_5_weighted 0.8909906636970145\n",
      "f1_batch_10_weighted 0.8877069673927478\n"
     ]
    }
   ],
   "source": [
    "train_5=df_2[2000000:2500000]\n",
    "train_10=df_2[4500000:5000000]\n",
    "from sklearn.metrics import f1_score\n",
    "print('f1_batch_5', f1_score(train_5[\"open_channels\"], train_5[\"y_pred\"], average = 'macro'))\n",
    "print('f1_batch_10', f1_score(train_10[\"open_channels\"], train_10[\"y_pred\"], average = 'macro'))\n",
    "print(\"Bench mark score:0.84\")\n",
    "print('f1_batch_5_weighted', f1_score(train_5[\"open_channels\"], train_5[\"y_pred\"], average = 'weighted'))\n",
    "print('f1_batch_10_weighted', f1_score(train_10[\"open_channels\"], train_10[\"y_pred\"], average = 'weighted'))"
   ]
  },
  {
   "cell_type": "code",
   "execution_count": 13,
   "metadata": {},
   "outputs": [
    {
     "name": "stdout",
     "output_type": "stream",
     "text": [
      "              precision    recall  f1-score   support\n",
      "\n",
      "           0     0.9981    0.9979    0.9980   1240152\n",
      "           1     0.9931    0.9921    0.9926    985865\n",
      "           2     0.9758    0.9775    0.9767    553924\n",
      "           3     0.9798    0.9802    0.9800    668609\n",
      "           4     0.9725    0.9701    0.9713    403410\n",
      "           5     0.9517    0.9447    0.9481    277877\n",
      "           6     0.8818    0.8908    0.8863    188112\n",
      "           7     0.8914    0.8919    0.8917    265015\n",
      "           8     0.8919    0.8992    0.8955    245183\n",
      "           9     0.8958    0.8965    0.8962    136120\n",
      "          10     0.9109    0.8840    0.8972     35733\n",
      "\n",
      "    accuracy                         0.9689   5000000\n",
      "   macro avg     0.9403    0.9386    0.9394   5000000\n",
      "weighted avg     0.9689    0.9689    0.9689   5000000\n",
      "\n"
     ]
    }
   ],
   "source": [
    "#dataset 4\n",
    "from sklearn.metrics import classification_report\n",
    "target_names = ['0','1','2','3','4','5','6','7','8','9','10']\n",
    "report = classification_report(df_4[\"open_channels\"], df_4[\"y_pred\"],target_names=target_names, digits= 4)\n",
    "print(report)"
   ]
  },
  {
   "cell_type": "code",
   "execution_count": 14,
   "metadata": {},
   "outputs": [
    {
     "name": "stdout",
     "output_type": "stream",
     "text": [
      "f1_batch_5 0.7977323246901039\n",
      "f1_batch_10 0.8719627883092125\n",
      "Bench mark score:0.84\n",
      "f1_batch_5_weighted 0.8903676111175204\n",
      "f1_batch_10_weighted 0.8902674853378332\n"
     ]
    }
   ],
   "source": [
    "train_5=df_4[2000000:2500000]\n",
    "train_10=df_4[4500000:5000000]\n",
    "from sklearn.metrics import f1_score\n",
    "print('f1_batch_5', f1_score(train_5[\"open_channels\"], train_5[\"y_pred\"], average = 'macro'))\n",
    "print('f1_batch_10', f1_score(train_10[\"open_channels\"], train_10[\"y_pred\"], average = 'macro'))\n",
    "print(\"Bench mark score:0.84\")\n",
    "print('f1_batch_5_weighted', f1_score(train_5[\"open_channels\"], train_5[\"y_pred\"], average = 'weighted'))\n",
    "print('f1_batch_10_weighted', f1_score(train_10[\"open_channels\"], train_10[\"y_pred\"], average = 'weighted'))"
   ]
  },
  {
   "cell_type": "code",
   "execution_count": 17,
   "metadata": {},
   "outputs": [
    {
     "name": "stdout",
     "output_type": "stream",
     "text": [
      "              precision    recall  f1-score   support\n",
      "\n",
      "           0     0.9987    0.9986    0.9986   1240152\n",
      "           1     0.9947    0.9945    0.9946    985865\n",
      "           2     0.9818    0.9822    0.9820    553924\n",
      "           3     0.9846    0.9838    0.9842    668609\n",
      "           4     0.9758    0.9781    0.9769    403410\n",
      "           5     0.9558    0.9573    0.9566    277877\n",
      "           6     0.9088    0.8887    0.8986    188112\n",
      "           7     0.8981    0.9126    0.9053    265015\n",
      "           8     0.9082    0.9072    0.9077    245183\n",
      "           9     0.9080    0.9092    0.9086    136120\n",
      "          10     0.9190    0.9014    0.9101     35733\n",
      "\n",
      "    accuracy                         0.9737   5000000\n",
      "   macro avg     0.9485    0.9467    0.9476   5000000\n",
      "weighted avg     0.9737    0.9737    0.9737   5000000\n",
      "\n"
     ]
    }
   ],
   "source": [
    "#dataset 6\n",
    "from sklearn.metrics import classification_report\n",
    "target_names = ['0','1','2','3','4','5','6','7','8','9','10']\n",
    "report = classification_report(df_6[\"open_channels\"], df_6[\"y_pred\"],target_names=target_names, digits= 4)\n",
    "print(report)"
   ]
  },
  {
   "cell_type": "code",
   "execution_count": 18,
   "metadata": {},
   "outputs": [
    {
     "name": "stdout",
     "output_type": "stream",
     "text": [
      "f1_batch_5 0.9111894335583238\n",
      "f1_batch_10 0.8926894539227599\n",
      "Bench mark score:0.84\n",
      "f1_batch_5_weighted 0.9035980125545953\n",
      "f1_batch_10_weighted 0.9043108016163788\n"
     ]
    }
   ],
   "source": [
    "train_5=df_6[2000000:2500000]\n",
    "train_10=df_6[4500000:5000000]\n",
    "from sklearn.metrics import f1_score\n",
    "print('f1_batch_5', f1_score(train_5[\"open_channels\"], train_5[\"y_pred\"], average = 'macro'))\n",
    "print('f1_batch_10', f1_score(train_10[\"open_channels\"], train_10[\"y_pred\"], average = 'macro'))\n",
    "print(\"Bench mark score:0.84\")\n",
    "print('f1_batch_5_weighted', f1_score(train_5[\"open_channels\"], train_5[\"y_pred\"], average = 'weighted'))\n",
    "print('f1_batch_10_weighted', f1_score(train_10[\"open_channels\"], train_10[\"y_pred\"], average = 'weighted'))"
   ]
  },
  {
   "cell_type": "code",
   "execution_count": 21,
   "metadata": {},
   "outputs": [
    {
     "name": "stdout",
     "output_type": "stream",
     "text": [
      "              precision    recall  f1-score   support\n",
      "\n",
      "           0     0.9988    0.9980    0.9984   1240152\n",
      "           1     0.9940    0.9949    0.9945    985865\n",
      "           2     0.9811    0.9836    0.9823    553924\n",
      "           3     0.9847    0.9809    0.9828    668609\n",
      "           4     0.9722    0.9718    0.9720    403410\n",
      "           5     0.9525    0.9467    0.9496    277877\n",
      "           6     0.8861    0.8914    0.8888    188112\n",
      "           7     0.8896    0.8998    0.8947    265015\n",
      "           8     0.8986    0.8970    0.8978    245183\n",
      "           9     0.8992    0.9022    0.9007    136120\n",
      "          10     0.9177    0.8893    0.9033     35733\n",
      "\n",
      "    accuracy                         0.9710   5000000\n",
      "   macro avg     0.9431    0.9414    0.9423   5000000\n",
      "weighted avg     0.9711    0.9710    0.9710   5000000\n",
      "\n"
     ]
    }
   ],
   "source": [
    "#dataset 8\n",
    "from sklearn.metrics import classification_report\n",
    "target_names = ['0','1','2','3','4','5','6','7','8','9','10']\n",
    "report = classification_report(df_8[\"open_channels\"], df_8[\"y_pred\"],target_names=target_names, digits= 4)\n",
    "print(report)"
   ]
  },
  {
   "cell_type": "code",
   "execution_count": 22,
   "metadata": {},
   "outputs": [
    {
     "name": "stdout",
     "output_type": "stream",
     "text": [
      "f1_batch_5 0.8004413814996643\n",
      "f1_batch_10 0.873040955151408\n",
      "Bench mark score:0.84\n",
      "f1_batch_5_weighted 0.893557355433929\n",
      "f1_batch_10_weighted 0.8930669745885752\n"
     ]
    }
   ],
   "source": [
    "train_5=df_8[2000000:2500000]\n",
    "train_10=df_8[4500000:5000000]\n",
    "from sklearn.metrics import f1_score\n",
    "print('f1_batch_5', f1_score(train_5[\"open_channels\"], train_5[\"y_pred\"], average = 'macro'))\n",
    "print('f1_batch_10', f1_score(train_10[\"open_channels\"], train_10[\"y_pred\"], average = 'macro'))\n",
    "print(\"Bench mark score:0.84\")\n",
    "print('f1_batch_5_weighted', f1_score(train_5[\"open_channels\"], train_5[\"y_pred\"], average = 'weighted'))\n",
    "print('f1_batch_10_weighted', f1_score(train_10[\"open_channels\"], train_10[\"y_pred\"], average = 'weighted'))"
   ]
  },
  {
   "cell_type": "markdown",
   "metadata": {},
   "source": [
    "## Stacking model"
   ]
  },
  {
   "cell_type": "code",
   "execution_count": 27,
   "metadata": {},
   "outputs": [],
   "source": [
    "#from sklearn.metrics import log_loss\n",
    "from sklearn.metrics import mean_squared_error\n",
    "from sklearn.model_selection import KFold"
   ]
  },
  {
   "cell_type": "code",
   "execution_count": 28,
   "metadata": {},
   "outputs": [],
   "source": [
    "# 予測値を特徴量としてデータフレームを作成\n",
    "#train_x_2 = pd.DataFrame({'pred_1': train_pred_1, 'pred_2': train_pred_2,'pred_3': train_pred_3,'pred_4': train_pred_4,'pred_5': train_pred_5,'pred_6': train_pred_6,'pred_7': train_pred_7,'pred_8': train_pred_8,'pred_9': train_pred_9,'pred_10': train_pred_10})\n",
    "#test_x_2 = pd.DataFrame({'pred_1': test_pred_1, 'pred_2': test_pred_2,'pred_3': test_pred_3,'pred_4': test_pred_4,'pred_5': test_pred_5,'pred_6': test_pred_6,'pred_7': test_pred_7,'pred_8': test_pred_8,'pred_9': test_pred_9,'pred_10': test_pred_10})\n",
    "train_x_2 = pd.DataFrame({'pred_2': train_pred_2,'pred_4': train_pred_4,'pred_6': train_pred_6,'pred_8': train_pred_8})\n",
    "test_x_2 = pd.DataFrame({'pred_2': test_pred_2,'pred_4': test_pred_4,'pred_6': test_pred_6,'pred_8': test_pred_8})"
   ]
  },
  {
   "cell_type": "code",
   "execution_count": 29,
   "metadata": {},
   "outputs": [
    {
     "data": {
      "text/html": [
       "<div>\n",
       "<style scoped>\n",
       "    .dataframe tbody tr th:only-of-type {\n",
       "        vertical-align: middle;\n",
       "    }\n",
       "\n",
       "    .dataframe tbody tr th {\n",
       "        vertical-align: top;\n",
       "    }\n",
       "\n",
       "    .dataframe thead th {\n",
       "        text-align: right;\n",
       "    }\n",
       "</style>\n",
       "<table border=\"1\" class=\"dataframe\">\n",
       "  <thead>\n",
       "    <tr style=\"text-align: right;\">\n",
       "      <th></th>\n",
       "      <th>pred_2</th>\n",
       "      <th>pred_4</th>\n",
       "      <th>pred_6</th>\n",
       "      <th>pred_8</th>\n",
       "    </tr>\n",
       "  </thead>\n",
       "  <tbody>\n",
       "    <tr>\n",
       "      <th>0</th>\n",
       "      <td>0</td>\n",
       "      <td>0</td>\n",
       "      <td>0</td>\n",
       "      <td>0</td>\n",
       "    </tr>\n",
       "    <tr>\n",
       "      <th>1</th>\n",
       "      <td>0</td>\n",
       "      <td>0</td>\n",
       "      <td>0</td>\n",
       "      <td>0</td>\n",
       "    </tr>\n",
       "    <tr>\n",
       "      <th>2</th>\n",
       "      <td>0</td>\n",
       "      <td>0</td>\n",
       "      <td>0</td>\n",
       "      <td>0</td>\n",
       "    </tr>\n",
       "    <tr>\n",
       "      <th>3</th>\n",
       "      <td>0</td>\n",
       "      <td>0</td>\n",
       "      <td>0</td>\n",
       "      <td>0</td>\n",
       "    </tr>\n",
       "    <tr>\n",
       "      <th>4</th>\n",
       "      <td>0</td>\n",
       "      <td>0</td>\n",
       "      <td>0</td>\n",
       "      <td>0</td>\n",
       "    </tr>\n",
       "  </tbody>\n",
       "</table>\n",
       "</div>"
      ],
      "text/plain": [
       "   pred_2  pred_4  pred_6  pred_8\n",
       "0       0       0       0       0\n",
       "1       0       0       0       0\n",
       "2       0       0       0       0\n",
       "3       0       0       0       0\n",
       "4       0       0       0       0"
      ]
     },
     "execution_count": 29,
     "metadata": {},
     "output_type": "execute_result"
    }
   ],
   "source": [
    "train_x_2.head()"
   ]
  },
  {
   "cell_type": "code",
   "execution_count": 30,
   "metadata": {},
   "outputs": [],
   "source": [
    "# 2層目\n",
    "#from sklearn.metrics import log_loss\n",
    "from sklearn.metrics import mean_squared_error\n",
    "from sklearn.model_selection import KFold\n",
    "\n",
    "# 学習データに対する「目的変数を知らない」予測値と、テストデータに対する予測値を返す関数\n",
    "def predict_cv2(model, train_x, train_y, test_x):\n",
    "    preds = []\n",
    "    preds_test = []\n",
    "    va_idxes = []\n",
    "\n",
    "    kf = KFold(n_splits=4, shuffle=True, random_state=71)\n",
    "\n",
    "    # クロスバリデーションで学習・予測を行い、予測値とインデックスを保存する\n",
    "    for i, (tr_idx, va_idx) in enumerate(kf.split(train_x)):\n",
    "        tr_x, va_x = train_x.iloc[tr_idx], train_x.iloc[va_idx]\n",
    "        tr_y, va_y = train_y.iloc[tr_idx], train_y.iloc[va_idx]\n",
    "        model.fit(tr_x, tr_y, va_x, va_y)\n",
    "        pred = model.predict(va_x)\n",
    "        preds.append(pred)\n",
    "        pred_test = model.predict(test_x)\n",
    "        preds_test.append(pred_test)\n",
    "        va_idxes.append(va_idx)\n",
    "\n",
    "    # バリデーションデータに対する予測値を連結し、その後元の順序に並べ直す\n",
    "    va_idxes = np.concatenate(va_idxes)\n",
    "    preds = np.concatenate(preds, axis=0)\n",
    "    order = np.argsort(va_idxes)\n",
    "    pred_train = preds[order]\n",
    "\n",
    "    # テストデータに対する予測値の平均をとる\n",
    "    preds_test = np.mean(preds_test, axis=0)\n",
    "\n",
    "    return pred_train, preds_test"
   ]
  },
  {
   "cell_type": "code",
   "execution_count": 31,
   "metadata": {},
   "outputs": [
    {
     "data": {
      "text/plain": [
       "GridSearchCV(cv=None, error_score=nan,\n",
       "             estimator=PLSRegression(copy=True, max_iter=500, n_components=2,\n",
       "                                     scale=True, tol=1e-06),\n",
       "             iid='deprecated', n_jobs=None,\n",
       "             param_grid=[{'n_components': (1, 2, 3)}], pre_dispatch='2*n_jobs',\n",
       "             refit=True, return_train_score=False, scoring=None, verbose=0)"
      ]
     },
     "execution_count": 31,
     "metadata": {},
     "output_type": "execute_result"
    }
   ],
   "source": [
    "from sklearn.cross_decomposition import PLSRegression\n",
    "from sklearn.model_selection import GridSearchCV\n",
    "\n",
    "params = [{'n_components':(1,2,3)}]\n",
    "\n",
    "pls = PLSRegression()\n",
    "\n",
    "clf = GridSearchCV(pls, params)\n",
    "clf.fit(train_x_2, train_y)\n",
    "\n",
    "#result = clf.cv_results_\n",
    "\n",
    "#print(result['params'])\n",
    "#print(result['score'])"
   ]
  },
  {
   "cell_type": "code",
   "execution_count": 32,
   "metadata": {},
   "outputs": [
    {
     "data": {
      "text/plain": [
       "{'mean_fit_time': array([0.71820726, 1.10275106, 1.39364629]),\n",
       " 'std_fit_time': array([0.03616682, 0.03901256, 0.00727342]),\n",
       " 'mean_score_time': array([0.03780026, 0.04139795, 0.04104242]),\n",
       " 'std_score_time': array([0.00186284, 0.00108018, 0.00065474]),\n",
       " 'param_n_components': masked_array(data=[1, 2, 3],\n",
       "              mask=[False, False, False],\n",
       "        fill_value='?',\n",
       "             dtype=object),\n",
       " 'params': [{'n_components': 1}, {'n_components': 2}, {'n_components': 3}],\n",
       " 'split0_test_score': array([0.99033562, 0.99088706, 0.990899  ]),\n",
       " 'split1_test_score': array([0.99396457, 0.99444061, 0.99442611]),\n",
       " 'split2_test_score': array([0.98798069, 0.98840553, 0.98841696]),\n",
       " 'split3_test_score': array([0.98785392, 0.98800166, 0.98777623]),\n",
       " 'split4_test_score': array([0.98807831, 0.98847587, 0.98849163]),\n",
       " 'mean_test_score': array([0.98964262, 0.99004215, 0.99000199]),\n",
       " 'std_test_score': array([0.00234811, 0.00242304, 0.00245459]),\n",
       " 'rank_test_score': array([3, 1, 2], dtype=int32)}"
      ]
     },
     "execution_count": 32,
     "metadata": {},
     "output_type": "execute_result"
    }
   ],
   "source": [
    "result = clf.cv_results_\n",
    "result\n",
    "#n_components=2 is the best"
   ]
  },
  {
   "cell_type": "code",
   "execution_count": 33,
   "metadata": {},
   "outputs": [],
   "source": [
    "# 2層目のモデル(PLS回帰)\n",
    "#from sklearn.linear_model import LogisticRegression\n",
    "#from sklearn.linear_model import Ridge\n",
    "from sklearn.cross_decomposition import PLSRegression\n",
    "from sklearn.preprocessing import StandardScaler\n",
    "class Model2Linear:\n",
    "\n",
    "    def __init__(self):\n",
    "        self.model = None\n",
    "        self.scaler = None\n",
    "\n",
    "    def fit(self, tr_x, tr_y, va_x, va_y):\n",
    "        self.scaler = StandardScaler()\n",
    "        self.scaler.fit(tr_x)\n",
    "        tr_x = self.scaler.transform(tr_x)\n",
    "        self.model = PLSRegression(n_components=2)\n",
    "        self.model.fit(tr_x, tr_y)\n",
    "\n",
    "    def predict(self, x):\n",
    "        x = self.scaler.transform(x)\n",
    "        pred = self.model.predict(x)\n",
    "        return pred"
   ]
  },
  {
   "cell_type": "code",
   "execution_count": 34,
   "metadata": {},
   "outputs": [],
   "source": [
    "# pred_train_2は、2層目のモデルの学習データのクロスバリデーションでの予測値\n",
    "# pred_test_2は、2層目のモデルのテストデータの予測値\n",
    "model_2 = Model2Linear()\n",
    "pred_train_2, pred_test_2 = predict_cv2(model_2, train_x_2, train_y, test_x_2)"
   ]
  },
  {
   "cell_type": "code",
   "execution_count": 35,
   "metadata": {},
   "outputs": [],
   "source": [
    "def pred_proc(pred):\n",
    "    pred = np.round(np.clip(pred, 0, 10))\n",
    "    return pred.astype(int)"
   ]
  },
  {
   "cell_type": "code",
   "execution_count": 36,
   "metadata": {},
   "outputs": [
    {
     "name": "stdout",
     "output_type": "stream",
     "text": [
      "0.9475655433554901\n"
     ]
    }
   ],
   "source": [
    "pred_train_2_=pred_proc(pred_train_2)\n",
    "print(f1_score(train_y, pred_train_2_, average='macro'))"
   ]
  },
  {
   "cell_type": "code",
   "execution_count": 37,
   "metadata": {},
   "outputs": [],
   "source": [
    "#pred_test_2_ = pred_proc(pred_test_2)\n",
    "#DATA_PATH2 = \"../input/liverpool-ion-switching\"\n",
    "#submission_df2 = pd.read_csv(os.path.join(DATA_PATH2, 'sample_submission.csv'))\n",
    "#submission_df2['open_channels'] = pred_test_2_\n",
    "#submission_df2.to_csv('submission_original_pls.csv', index=False, float_format='%.4f')"
   ]
  },
  {
   "cell_type": "markdown",
   "metadata": {},
   "source": [
    "# Optimize Rounder"
   ]
  },
  {
   "cell_type": "code",
   "execution_count": 38,
   "metadata": {},
   "outputs": [],
   "source": [
    "#ref:https://www.kaggle.com/artgor/eda-and-model-f1-optimization\n",
    "import numpy as np\n",
    "import scipy as sp\n",
    "from functools import partial\n",
    "from sklearn import metrics\n",
    "\n",
    "class OptimizedRounderF1(object):\n",
    "    \"\"\"\n",
    "    An optimizer for rounding thresholds\n",
    "    to maximize f1 score\n",
    "    \"\"\"\n",
    "    def __init__(self):\n",
    "        self.coef_ = 0\n",
    "\n",
    "    def _f1_loss(self, coef, X, y):\n",
    "        \"\"\"\n",
    "        Get loss according to\n",
    "        using current coefficients\n",
    "        \n",
    "        :param coef: A list of coefficients that will be used for rounding\n",
    "        :param X: The raw predictions\n",
    "        :param y: The ground truth labels\n",
    "        \"\"\"\n",
    "        X_p = pd.cut(X, [-np.inf] + list(np.sort(coef)) + [np.inf], labels = [0, 1, 2, 3, 4, 5, 6, 7, 8, 9, 10])\n",
    "\n",
    "        return -metrics.f1_score(y, X_p, average='macro')\n",
    "\n",
    "    def fit(self, X, y):\n",
    "        \"\"\"\n",
    "        Optimize rounding thresholds\n",
    "        \n",
    "        :param X: The raw predictions\n",
    "        :param y: The ground truth labels\n",
    "        \"\"\"\n",
    "        loss_partial = partial(self._f1_loss, X=X, y=y)\n",
    "        initial_coef = [0.5, 1.5, 2.5, 3.5, 4.5, 5.5, 6.5, 7.5, 8.5, 9.5]\n",
    "        self.coef_ = sp.optimize.minimize(loss_partial, initial_coef, method='nelder-mead')\n",
    "\n",
    "    def predict(self, X, coef):\n",
    "        \"\"\"\n",
    "        Make predictions with specified thresholds\n",
    "        \n",
    "        :param X: The raw predictions\n",
    "        :param coef: A list of coefficients that will be used for rounding\n",
    "        \"\"\"\n",
    "        return pd.cut(X, [-np.inf] + list(np.sort(coef)) + [np.inf], labels = [0, 1, 2, 3, 4, 5, 6, 7, 8, 9, 10])\n",
    "\n",
    "\n",
    "    def coefficients(self):\n",
    "        \"\"\"\n",
    "        Return the optimized coefficients\n",
    "        \"\"\"\n",
    "        return self.coef_['x']"
   ]
  },
  {
   "cell_type": "code",
   "execution_count": 39,
   "metadata": {},
   "outputs": [
    {
     "name": "stdout",
     "output_type": "stream",
     "text": [
      "[0.50625 1.51875 2.5     3.5     4.5     5.5     6.5     7.5     8.5\n",
      " 9.5    ]\n"
     ]
    }
   ],
   "source": [
    "optR = OptimizedRounderF1()\n",
    "optR.fit(pred_train_2.reshape(-1,), train_y)\n",
    "coefficients=optR.coefficients()\n",
    "print(coefficients)"
   ]
  },
  {
   "cell_type": "code",
   "execution_count": 40,
   "metadata": {},
   "outputs": [
    {
     "name": "stdout",
     "output_type": "stream",
     "text": [
      "f1 0.9475662025380109\n"
     ]
    }
   ],
   "source": [
    "opt_pred = optR.predict(pred_train_2.reshape(-1,), coefficients)\n",
    "print('f1', metrics.f1_score(train_y, opt_pred, average = 'macro'))"
   ]
  },
  {
   "cell_type": "code",
   "execution_count": 41,
   "metadata": {},
   "outputs": [],
   "source": [
    "DATA_PATH2 = \"../input/liverpool-ion-switching\"\n",
    "train = pd.read_csv(os.path.join(DATA_PATH2, 'train.csv'))\n",
    "train['y_pred'] = opt_pred\n",
    "train.to_csv('pls_stacking3_y_pred.csv', index=False, float_format='%.4f')\n"
   ]
  },
  {
   "cell_type": "code",
   "execution_count": 42,
   "metadata": {},
   "outputs": [
    {
     "name": "stdout",
     "output_type": "stream",
     "text": [
      "              precision    recall  f1-score   support\n",
      "\n",
      "           0     0.9987    0.9985    0.9986   1240152\n",
      "           1     0.9947    0.9945    0.9946    985865\n",
      "           2     0.9817    0.9822    0.9820    553924\n",
      "           3     0.9846    0.9838    0.9842    668609\n",
      "           4     0.9758    0.9781    0.9770    403410\n",
      "           5     0.9558    0.9573    0.9566    277877\n",
      "           6     0.9088    0.8887    0.8986    188112\n",
      "           7     0.8981    0.9126    0.9053    265015\n",
      "           8     0.9082    0.9072    0.9077    245183\n",
      "           9     0.9080    0.9092    0.9086    136120\n",
      "          10     0.9190    0.9014    0.9101     35733\n",
      "\n",
      "    accuracy                         0.9737   5000000\n",
      "   macro avg     0.9485    0.9467    0.9476   5000000\n",
      "weighted avg     0.9737    0.9737    0.9737   5000000\n",
      "\n"
     ]
    }
   ],
   "source": [
    "from sklearn.metrics import classification_report\n",
    "target_names = ['0','1','2','3','4','5','6','7','8','9','10']\n",
    "report = classification_report(train_y, opt_pred,target_names=target_names, digits= 4)\n",
    "print(report)"
   ]
  },
  {
   "cell_type": "code",
   "execution_count": 43,
   "metadata": {},
   "outputs": [],
   "source": [
    "#final_pred=pred_proc(pred_test_2)\n",
    "final_pred=optR.predict(pred_test_2.reshape(-1,), coefficients)"
   ]
  },
  {
   "cell_type": "code",
   "execution_count": 44,
   "metadata": {},
   "outputs": [],
   "source": [
    "DATA_PATH2 = \"../input/liverpool-ion-switching\"\n",
    "submission_df = pd.read_csv(os.path.join(DATA_PATH2, 'sample_submission.csv'))\n",
    "submission_df['open_channels'] = final_pred\n",
    "submission_df.to_csv('submission_pls_stacking3.csv', index=False, float_format='%.4f')"
   ]
  },
  {
   "cell_type": "markdown",
   "metadata": {},
   "source": [
    "# Appendix \"Check relation of each predictions\""
   ]
  },
  {
   "cell_type": "code",
   "execution_count": 45,
   "metadata": {},
   "outputs": [],
   "source": [
    "import matplotlib.pyplot as plt\n",
    "from scipy.stats.mstats import gmean\n",
    "import seaborn as sns"
   ]
  },
  {
   "cell_type": "code",
   "execution_count": 46,
   "metadata": {},
   "outputs": [
    {
     "data": {
      "text/plain": [
       "<matplotlib.axes._subplots.AxesSubplot at 0x7f390e26e990>"
      ]
     },
     "execution_count": 46,
     "metadata": {},
     "output_type": "execute_result"
    },
    {
     "data": {
      "image/png": "[encoded data removed]",
      "text/plain": [
       "<Figure size 1080x864 with 2 Axes>"
      ]
     },
     "metadata": {
      "needs_background": "light"
     },
     "output_type": "display_data"
    }
   ],
   "source": [
    "corr = train_x_2.iloc[:,0:].corr()\n",
    "mask = np.zeros_like(corr, dtype=np.bool)\n",
    "mask[np.triu_indices_from(mask)] = True\n",
    "\n",
    "# Set up the matplotlib figure\n",
    "f, ax = plt.subplots(figsize=(15, 12))\n",
    "\n",
    "# Draw the heatmap with the mask and correct aspect ratio\n",
    "sns.heatmap(corr, mask=mask, cmap='prism', vmin=0.96, center=0, square=True, linewidths=1, annot=True, fmt='.4f')"
   ]
  }
 ],
 "metadata": {
  "kernelspec": {
   "display_name": "Python 3",
   "language": "python",
   "name": "python3"
  },
  "language_info": {
   "codemirror_mode": {
    "name": "ipython",
    "version": 3
   },
   "file_extension": ".py",
   "mimetype": "text/x-python",
   "name": "python",
   "nbconvert_exporter": "python",
   "pygments_lexer": "ipython3",
   "version": "3.6.10"
  }
 },
 "nbformat": 4,
 "nbformat_minor": 4
}
