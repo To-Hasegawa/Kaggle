{
 "cells": [
  {
   "cell_type": "markdown",
   "metadata": {},
   "source": [
    "Ref:https://github.com/hkaneko1985/python_data_analysis_ohmsha/blob/master/sample_functions.py  \n",
    "Ref:https://github.com/hkaneko1985/python_data_analysis_ohmsha/blob/master/sample_program_4_8.py"
   ]
  },
  {
   "cell_type": "code",
   "execution_count": 10,
   "metadata": {},
   "outputs": [],
   "source": [
    "# -*- coding: utf-8 -*-\n",
    "import numpy as np\n",
    "import pandas as pd\n",
    "#import sample_functions\n",
    "from sklearn import svm\n",
    "from sklearn.model_selection import train_test_split, GridSearchCV\n",
    "from scipy.spatial.distance import cdist"
   ]
  },
  {
   "cell_type": "code",
   "execution_count": 3,
   "metadata": {},
   "outputs": [],
   "source": [
    "dataset = pd.read_csv('train.csv', index_col=0)"
   ]
  },
  {
   "cell_type": "code",
   "execution_count": 4,
   "metadata": {},
   "outputs": [
    {
     "data": {
      "text/html": [
       "<div>\n",
       "<style scoped>\n",
       "    .dataframe tbody tr th:only-of-type {\n",
       "        vertical-align: middle;\n",
       "    }\n",
       "\n",
       "    .dataframe tbody tr th {\n",
       "        vertical-align: top;\n",
       "    }\n",
       "\n",
       "    .dataframe thead th {\n",
       "        text-align: right;\n",
       "    }\n",
       "</style>\n",
       "<table border=\"1\" class=\"dataframe\">\n",
       "  <thead>\n",
       "    <tr style=\"text-align: right;\">\n",
       "      <th></th>\n",
       "      <th>job</th>\n",
       "      <th>marital</th>\n",
       "      <th>education</th>\n",
       "      <th>default</th>\n",
       "      <th>balance</th>\n",
       "      <th>housing</th>\n",
       "      <th>loan</th>\n",
       "      <th>contact</th>\n",
       "      <th>day</th>\n",
       "      <th>month</th>\n",
       "      <th>duration</th>\n",
       "      <th>campaign</th>\n",
       "      <th>pdays</th>\n",
       "      <th>previous</th>\n",
       "      <th>poutcome</th>\n",
       "      <th>y</th>\n",
       "      <th>days</th>\n",
       "      <th>weeks</th>\n",
       "    </tr>\n",
       "    <tr>\n",
       "      <th>age</th>\n",
       "      <th></th>\n",
       "      <th></th>\n",
       "      <th></th>\n",
       "      <th></th>\n",
       "      <th></th>\n",
       "      <th></th>\n",
       "      <th></th>\n",
       "      <th></th>\n",
       "      <th></th>\n",
       "      <th></th>\n",
       "      <th></th>\n",
       "      <th></th>\n",
       "      <th></th>\n",
       "      <th></th>\n",
       "      <th></th>\n",
       "      <th></th>\n",
       "      <th></th>\n",
       "      <th></th>\n",
       "    </tr>\n",
       "  </thead>\n",
       "  <tbody>\n",
       "    <tr>\n",
       "      <th>31</th>\n",
       "      <td>7</td>\n",
       "      <td>1</td>\n",
       "      <td>1</td>\n",
       "      <td>0</td>\n",
       "      <td>12294</td>\n",
       "      <td>1</td>\n",
       "      <td>0</td>\n",
       "      <td>0</td>\n",
       "      <td>21</td>\n",
       "      <td>11</td>\n",
       "      <td>101</td>\n",
       "      <td>3</td>\n",
       "      <td>498</td>\n",
       "      <td>0</td>\n",
       "      <td>1</td>\n",
       "      <td>0</td>\n",
       "      <td>326.0</td>\n",
       "      <td>47.0</td>\n",
       "    </tr>\n",
       "    <tr>\n",
       "      <th>29</th>\n",
       "      <td>2</td>\n",
       "      <td>2</td>\n",
       "      <td>2</td>\n",
       "      <td>0</td>\n",
       "      <td>43027</td>\n",
       "      <td>0</td>\n",
       "      <td>0</td>\n",
       "      <td>0</td>\n",
       "      <td>22</td>\n",
       "      <td>8</td>\n",
       "      <td>158</td>\n",
       "      <td>2</td>\n",
       "      <td>702</td>\n",
       "      <td>0</td>\n",
       "      <td>3</td>\n",
       "      <td>1</td>\n",
       "      <td>236.0</td>\n",
       "      <td>34.0</td>\n",
       "    </tr>\n",
       "    <tr>\n",
       "      <th>35</th>\n",
       "      <td>4</td>\n",
       "      <td>1</td>\n",
       "      <td>2</td>\n",
       "      <td>0</td>\n",
       "      <td>12252</td>\n",
       "      <td>1</td>\n",
       "      <td>0</td>\n",
       "      <td>0</td>\n",
       "      <td>11</td>\n",
       "      <td>11</td>\n",
       "      <td>351</td>\n",
       "      <td>1</td>\n",
       "      <td>826</td>\n",
       "      <td>0</td>\n",
       "      <td>0</td>\n",
       "      <td>0</td>\n",
       "      <td>316.0</td>\n",
       "      <td>45.0</td>\n",
       "    </tr>\n",
       "    <tr>\n",
       "      <th>31</th>\n",
       "      <td>9</td>\n",
       "      <td>1</td>\n",
       "      <td>1</td>\n",
       "      <td>0</td>\n",
       "      <td>99121</td>\n",
       "      <td>1</td>\n",
       "      <td>1</td>\n",
       "      <td>2</td>\n",
       "      <td>16</td>\n",
       "      <td>5</td>\n",
       "      <td>658</td>\n",
       "      <td>2</td>\n",
       "      <td>120</td>\n",
       "      <td>0</td>\n",
       "      <td>0</td>\n",
       "      <td>0</td>\n",
       "      <td>138.0</td>\n",
       "      <td>20.0</td>\n",
       "    </tr>\n",
       "    <tr>\n",
       "      <th>48</th>\n",
       "      <td>10</td>\n",
       "      <td>1</td>\n",
       "      <td>0</td>\n",
       "      <td>0</td>\n",
       "      <td>42005</td>\n",
       "      <td>1</td>\n",
       "      <td>0</td>\n",
       "      <td>1</td>\n",
       "      <td>3</td>\n",
       "      <td>4</td>\n",
       "      <td>177</td>\n",
       "      <td>1</td>\n",
       "      <td>273</td>\n",
       "      <td>0</td>\n",
       "      <td>3</td>\n",
       "      <td>0</td>\n",
       "      <td>94.0</td>\n",
       "      <td>13.0</td>\n",
       "    </tr>\n",
       "  </tbody>\n",
       "</table>\n",
       "</div>"
      ],
      "text/plain": [
       "     job  marital  education  default  balance  housing  loan  contact  day  \\\n",
       "age                                                                           \n",
       "31     7        1          1        0    12294        1     0        0   21   \n",
       "29     2        2          2        0    43027        0     0        0   22   \n",
       "35     4        1          2        0    12252        1     0        0   11   \n",
       "31     9        1          1        0    99121        1     1        2   16   \n",
       "48    10        1          0        0    42005        1     0        1    3   \n",
       "\n",
       "     month  duration  campaign  pdays  previous  poutcome  y   days  weeks  \n",
       "age                                                                         \n",
       "31      11       101         3    498         0         1  0  326.0   47.0  \n",
       "29       8       158         2    702         0         3  1  236.0   34.0  \n",
       "35      11       351         1    826         0         0  0  316.0   45.0  \n",
       "31       5       658         2    120         0         0  0  138.0   20.0  \n",
       "48       4       177         1    273         0         3  0   94.0   13.0  "
      ]
     },
     "execution_count": 4,
     "metadata": {},
     "output_type": "execute_result"
    }
   ],
   "source": [
    "dataset.head()"
   ]
  },
  {
   "cell_type": "code",
   "execution_count": 22,
   "metadata": {},
   "outputs": [],
   "source": [
    "svr_cs = 2 ** np.arange(-5, 11, dtype=float)  # C の候補\n",
    "svr_epsilons = 2 ** np.arange(-10, 1, dtype=float)  # ε の候補\n",
    "svr_gammas = 2 ** np.arange(-20, 11, dtype=float)  # γ の候補\n",
    "fold_number = 5  # N-fold CV の N\n",
    "number_of_test_samples = len(dataset)*0.2  # テストデータのサンプル数。20%のデータを使用"
   ]
  },
  {
   "cell_type": "code",
   "execution_count": 5,
   "metadata": {},
   "outputs": [],
   "source": [
    "# データ分割\n",
    "y = dataset[\"y\"]  # 目的変数\n",
    "x = dataset.drop([\"y\"], axis=1)  # 説明変数\n",
    "\n",
    "# ランダムにトレーニングデータとテストデータとに分割\n",
    "# random_state に数字を与えることで、別のときに同じ数字を使えば、ランダムとはいえ同じ結果にすることができます\n",
    "x_train, x_test, y_train, y_test = train_test_split(x, y, test_size=number_of_test_samples, random_state=0)"
   ]
  },
  {
   "cell_type": "code",
   "execution_count": 6,
   "metadata": {},
   "outputs": [],
   "source": [
    "# オートスケーリング\n",
    "autoscaled_x_train = (x_train - x_train.mean(axis=0)) / x_train.std(axis=0, ddof=1)\n",
    "autoscaled_y_train = (y_train - y_train.mean()) / y_train.std(ddof=1)\n",
    "autoscaled_x_test = (x_test - x_train.mean(axis=0)) / x_train.std(axis=0, ddof=1)"
   ]
  },
  {
   "cell_type": "code",
   "execution_count": 8,
   "metadata": {},
   "outputs": [],
   "source": [
    "def gamma_optimization_with_variance(x, gammas):\n",
    "    \"\"\"\n",
    "    DataFrame型もしくは array 型の x において、カーネル関数におけるグラム行列の分散を最大化することによって\n",
    "    γ を最適化する関数\n",
    "    Parameters\n",
    "    ----------\n",
    "    x: pandas.DataFrame or numpy.array\n",
    "    gammas: list\n",
    "    Returns\n",
    "    -------\n",
    "    optimized gamma : scalar\n",
    "    \n",
    "    \"\"\"\n",
    "    print('カーネル関数において、グラム行列の分散を最大化することによる γ の最適化')\n",
    "    variance_of_gram_matrix = list()\n",
    "    for index, ocsvm_gamma in enumerate(gammas):\n",
    "        print(index + 1, '/', len(gammas))\n",
    "        gram_matrix = np.exp(-ocsvm_gamma * cdist(x, x, metric='sqeuclidean'))\n",
    "        variance_of_gram_matrix.append(gram_matrix.var(ddof=1))\n",
    "    return gammas[variance_of_gram_matrix.index(max(variance_of_gram_matrix))]"
   ]
  },
  {
   "cell_type": "code",
   "execution_count": 11,
   "metadata": {},
   "outputs": [
    {
     "name": "stdout",
     "output_type": "stream",
     "text": [
      "カーネル関数において、グラム行列の分散を最大化することによる γ の最適化\n",
      "1 / 31\n",
      "2 / 31\n",
      "3 / 31\n",
      "4 / 31\n",
      "5 / 31\n",
      "6 / 31\n",
      "7 / 31\n",
      "8 / 31\n",
      "9 / 31\n",
      "10 / 31\n",
      "11 / 31\n",
      "12 / 31\n",
      "13 / 31\n",
      "14 / 31\n",
      "15 / 31\n",
      "16 / 31\n",
      "17 / 31\n",
      "18 / 31\n",
      "19 / 31\n",
      "20 / 31\n",
      "21 / 31\n",
      "22 / 31\n",
      "23 / 31\n",
      "24 / 31\n",
      "25 / 31\n",
      "26 / 31\n",
      "27 / 31\n",
      "28 / 31\n",
      "29 / 31\n",
      "30 / 31\n",
      "31 / 31\n"
     ]
    }
   ],
   "source": [
    "# グラム行列の分散を最大化することによる γ の最適化\n",
    "optimal_svr_gamma = gamma_optimization_with_variance(autoscaled_x_train, svr_gammas)"
   ]
  },
  {
   "cell_type": "code",
   "execution_count": 12,
   "metadata": {},
   "outputs": [
    {
     "name": "stderr",
     "output_type": "stream",
     "text": [
      "/Users/hasegawatooru/anaconda3/envs/kaggle/lib/python3.6/site-packages/sklearn/model_selection/_search.py:823: FutureWarning: The parameter 'iid' is deprecated in 0.22 and will be removed in 0.24.\n",
      "  \"removed in 0.24.\", FutureWarning\n"
     ]
    }
   ],
   "source": [
    "# CV による ε の最適化\n",
    "model_in_cv = GridSearchCV(svm.SVR(kernel='rbf', C=3, gamma=optimal_svr_gamma), \n",
    "                           {'epsilon': svr_epsilons}, cv=fold_number, iid=False)\n",
    "model_in_cv.fit(autoscaled_x_train, autoscaled_y_train)\n",
    "optimal_svr_epsilon = model_in_cv.best_params_['epsilon']"
   ]
  },
  {
   "cell_type": "code",
   "execution_count": 13,
   "metadata": {},
   "outputs": [
    {
     "name": "stderr",
     "output_type": "stream",
     "text": [
      "/Users/hasegawatooru/anaconda3/envs/kaggle/lib/python3.6/site-packages/sklearn/model_selection/_search.py:823: FutureWarning: The parameter 'iid' is deprecated in 0.22 and will be removed in 0.24.\n",
      "  \"removed in 0.24.\", FutureWarning\n"
     ]
    }
   ],
   "source": [
    "# CV による C の最適化\n",
    "model_in_cv = GridSearchCV(svm.SVR(kernel='rbf', epsilon=optimal_svr_epsilon, gamma=optimal_svr_gamma),\n",
    "                           {'C': svr_cs}, cv=fold_number, iid=False)\n",
    "model_in_cv.fit(autoscaled_x_train, autoscaled_y_train)\n",
    "optimal_svr_c = model_in_cv.best_params_['C']"
   ]
  },
  {
   "cell_type": "code",
   "execution_count": 14,
   "metadata": {},
   "outputs": [
    {
     "name": "stderr",
     "output_type": "stream",
     "text": [
      "/Users/hasegawatooru/anaconda3/envs/kaggle/lib/python3.6/site-packages/sklearn/model_selection/_search.py:823: FutureWarning: The parameter 'iid' is deprecated in 0.22 and will be removed in 0.24.\n",
      "  \"removed in 0.24.\", FutureWarning\n"
     ]
    }
   ],
   "source": [
    "# CV による γ の最適化\n",
    "model_in_cv = GridSearchCV(svm.SVR(kernel='rbf', epsilon=optimal_svr_epsilon, C=optimal_svr_c),\n",
    "                           {'gamma': svr_gammas}, cv=fold_number, iid=False)\n",
    "model_in_cv.fit(autoscaled_x_train, autoscaled_y_train)\n",
    "optimal_svr_gamma = model_in_cv.best_params_['gamma']"
   ]
  },
  {
   "cell_type": "code",
   "execution_count": 15,
   "metadata": {},
   "outputs": [
    {
     "name": "stdout",
     "output_type": "stream",
     "text": [
      "C : 16.0\n",
      "ε : 0.25\n",
      "Gamma : 0.03125\n"
     ]
    }
   ],
   "source": [
    "# 最適化された C, ε, γ\n",
    "print('C : {0}\\nε : {1}\\nGamma : {2}'.format(optimal_svr_c, optimal_svr_epsilon, optimal_svr_gamma))"
   ]
  },
  {
   "cell_type": "code",
   "execution_count": 16,
   "metadata": {},
   "outputs": [
    {
     "data": {
      "text/plain": [
       "SVR(C=16.0, cache_size=200, coef0=0.0, degree=3, epsilon=0.25, gamma=0.03125,\n",
       "    kernel='rbf', max_iter=-1, shrinking=True, tol=0.001, verbose=False)"
      ]
     },
     "execution_count": 16,
     "metadata": {},
     "output_type": "execute_result"
    }
   ],
   "source": [
    "# SVR\n",
    "model = svm.SVR(kernel='rbf', C=optimal_svr_c, epsilon=optimal_svr_epsilon, gamma=optimal_svr_gamma)  # モデルの宣言\n",
    "model.fit(autoscaled_x_train, autoscaled_y_train)  # モデルの構築"
   ]
  },
  {
   "cell_type": "code",
   "execution_count": 17,
   "metadata": {},
   "outputs": [],
   "source": [
    "import matplotlib.figure as figure\n",
    "import matplotlib.pyplot as plt\n",
    "from sklearn import metrics"
   ]
  },
  {
   "cell_type": "code",
   "execution_count": 18,
   "metadata": {},
   "outputs": [],
   "source": [
    "def estimation_and_performance_check_in_regression_train_and_test(model, x_train, y_train, x_test, y_test):\n",
    "    # トレーニングデータの推定\n",
    "    estimated_y_train = model.predict(x_train) * y_train.std() + y_train.mean()  # y を推定し、スケールをもとに戻します\n",
    "    estimated_y_train = pd.DataFrame(estimated_y_train, index=x_train.index,\n",
    "                                     columns=['estimated_y'])  # Pandas の DataFrame 型に変換。行の名前・列の名前も設定\n",
    "    \n",
    "    # トレーニングデータの実測値 vs. 推定値のプロット\n",
    "    plt.rcParams['font.size'] = 18  # 横軸や縦軸の名前の文字などのフォントのサイズ\n",
    "    plt.figure(figsize=figure.figaspect(1))  # 図の形を正方形に\n",
    "    plt.scatter(y_train, estimated_y_train.iloc[:, 0], c='blue')  # 実測値 vs. 推定値プロット\n",
    "    y_max = max(y_train.max(), estimated_y_train.iloc[:, 0].max())  # 実測値の最大値と、推定値の最大値の中で、より大きい値を取得\n",
    "    y_min = min(y_train.min(), estimated_y_train.iloc[:, 0].min())  # 実測値の最小値と、推定値の最小値の中で、より小さい値を取得\n",
    "    plt.plot([y_min - 0.05 * (y_max - y_min), y_max + 0.05 * (y_max - y_min)],\n",
    "             [y_min - 0.05 * (y_max - y_min), y_max + 0.05 * (y_max - y_min)], 'k-')  # 取得した最小値-5%から最大値+5%まで、対角線を作成\n",
    "    plt.ylim(y_min - 0.05 * (y_max - y_min), y_max + 0.05 * (y_max - y_min))  # y 軸の範囲の設定\n",
    "    plt.xlim(y_min - 0.05 * (y_max - y_min), y_max + 0.05 * (y_max - y_min))  # x 軸の範囲の設定\n",
    "    plt.xlabel('actual y')  # x 軸の名前\n",
    "    plt.ylabel('estimated y')  # y 軸の名前\n",
    "    plt.show()  # 以上の設定で描画\n",
    "\n",
    "    # トレーニングデータのr2, RMSE, MAE\n",
    "    print('r^2 for training data :', metrics.r2_score(y_train, estimated_y_train))\n",
    "    print('RMSE for training data :', metrics.mean_squared_error(y_train, estimated_y_train) ** 0.5)\n",
    "    print('MAE for training data :', metrics.mean_absolute_error(y_train, estimated_y_train))\n",
    "\n",
    "    # トレーニングデータの結果の保存\n",
    "    y_train_for_save = pd.DataFrame(y_train)  # Series のため列名は別途変更\n",
    "    y_train_for_save.columns = ['actual_y']\n",
    "    y_error_train = y_train_for_save.iloc[:, 0] - estimated_y_train.iloc[:, 0]\n",
    "    y_error_train = pd.DataFrame(y_error_train)  # Series のため列名は別途変更\n",
    "    y_error_train.columns = ['error_of_y(actual_y-estimated_y)']\n",
    "    results_train = pd.concat([estimated_y_train, y_train_for_save, y_error_train], axis=1)\n",
    "    results_train.to_csv('estimated_y_train.csv')  # 推定値を csv ファイルに保存。同じ名前のファイルがあるときは上書きされますので注意してください\n",
    "\n",
    "    # テストデータの推定\n",
    "    estimated_y_test = model.predict(x_test) * y_train.std() + y_train.mean()  # y を推定し、スケールをもとに戻します\n",
    "    estimated_y_test = pd.DataFrame(estimated_y_test, index=x_test.index,\n",
    "                                    columns=['estimated_y'])  # Pandas の DataFrame 型に変換。行の名前・列の名前も設定\n",
    "   \n",
    "    # テストデータの実測値 vs. 推定値のプロット\n",
    "    plt.rcParams['font.size'] = 18  # 横軸や縦軸の名前の文字などのフォントのサイズ\n",
    "    plt.figure(figsize=figure.figaspect(1))  # 図の形を正方形に\n",
    "    plt.scatter(y_test, estimated_y_test.iloc[:, 0], c='blue')  # 実測値 vs. 推定値プロット\n",
    "    y_max = max(y_test.max(), estimated_y_test.iloc[:, 0].max())  # 実測値の最大値と、推定値の最大値の中で、より大きい値を取得\n",
    "    y_min = min(y_test.min(), estimated_y_test.iloc[:, 0].min())  # 実測値の最小値と、推定値の最小値の中で、より小さい値を取得\n",
    "    plt.plot([y_min - 0.05 * (y_max - y_min), y_max + 0.05 * (y_max - y_min)],\n",
    "             [y_min - 0.05 * (y_max - y_min), y_max + 0.05 * (y_max - y_min)], 'k-')  # 取得した最小値-5%から最大値+5%まで、対角線を作成\n",
    "    plt.ylim(y_min - 0.05 * (y_max - y_min), y_max + 0.05 * (y_max - y_min))  # y 軸の範囲の設定\n",
    "    plt.xlim(y_min - 0.05 * (y_max - y_min), y_max + 0.05 * (y_max - y_min))  # x 軸の範囲の設定\n",
    "    plt.xlabel('actual y')  # x 軸の名前\n",
    "    plt.ylabel('estimated y')  # y 軸の名前\n",
    "    plt.show()  # 以上の設定で描画\n",
    "\n",
    "    # テストデータのr2, RMSE, MAE\n",
    "    print('r^2 for test data :', metrics.r2_score(y_test, estimated_y_test))\n",
    "    print('RMSE for test data :', metrics.mean_squared_error(y_test, estimated_y_test) ** 0.5)\n",
    "    print('MAE for test data :', metrics.mean_absolute_error(y_test, estimated_y_test))\n",
    "\n",
    "    # テストデータの結果の保存\n",
    "    y_test_for_save = pd.DataFrame(y_test)  # Series のため列名は別途変更\n",
    "    y_test_for_save.columns = ['actual_y']\n",
    "    y_error_test = y_test_for_save.iloc[:, 0] - estimated_y_test.iloc[:, 0]\n",
    "    y_error_test = pd.DataFrame(y_error_test)  # Series のため列名は別途変更\n",
    "    y_error_test.columns = ['error_of_y(actual_y-estimated_y)']\n",
    "    results_test = pd.concat([estimated_y_test, y_test_for_save, y_error_test], axis=1)\n",
    "    results_test.to_csv('estimated_y_test.csv')  # 推定値を csv ファイルに保存。同じ名前のファイルがあるときは上書きされますので注意してください"
   ]
  },
  {
   "cell_type": "code",
   "execution_count": 20,
   "metadata": {},
   "outputs": [
    {
     "data": {
      "image/png": "[encoded data removed]",
      "text/plain": [
       "<Figure size 288x288 with 1 Axes>"
      ]
     },
     "metadata": {
      "needs_background": "light"
     },
     "output_type": "display_data"
    },
    {
     "name": "stdout",
     "output_type": "stream",
     "text": [
      "r^2 for training data : 0.14078035266760025\n",
      "RMSE for training data : 0.24835719403891215\n",
      "MAE for training data : 0.11782106951718793\n"
     ]
    },
    {
     "data": {
      "image/png": "[encoded data removed]",
      "text/plain": [
       "<Figure size 288x288 with 1 Axes>"
      ]
     },
     "metadata": {
      "needs_background": "light"
     },
     "output_type": "display_data"
    },
    {
     "name": "stdout",
     "output_type": "stream",
     "text": [
      "r^2 for test data : 0.05891414451353971\n",
      "RMSE for test data : 0.2821998873018296\n",
      "MAE for test data : 0.13917804532236874\n"
     ]
    }
   ],
   "source": [
    "# トレーニングデータ・テストデータの推定、実測値 vs. 推定値のプロット、r2, RMSE, MAE の値の表示、推定値の保存\n",
    "estimation_and_performance_check_in_regression_train_and_test(model, autoscaled_x_train, y_train,\n",
    "                                                                               autoscaled_x_test, y_test)"
   ]
  },
  {
   "cell_type": "code",
   "execution_count": null,
   "metadata": {},
   "outputs": [],
   "source": []
  }
 ],
 "metadata": {
  "kernelspec": {
   "display_name": "Python 3",
   "language": "python",
   "name": "python3"
  },
  "language_info": {
   "codemirror_mode": {
    "name": "ipython",
    "version": 3
   },
   "file_extension": ".py",
   "mimetype": "text/x-python",
   "name": "python",
   "nbconvert_exporter": "python",
   "pygments_lexer": "ipython3",
   "version": "3.6.10"
  }
 },
 "nbformat": 4,
 "nbformat_minor": 4
}
